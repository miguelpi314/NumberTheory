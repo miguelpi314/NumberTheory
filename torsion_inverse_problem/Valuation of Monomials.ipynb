{
 "cells": [
  {
   "cell_type": "markdown",
   "id": "d86e3134",
   "metadata": {},
   "source": [
    "# Variables Definition\n"
   ]
  },
  {
   "cell_type": "code",
   "execution_count": 1,
   "id": "148e929e",
   "metadata": {},
   "outputs": [],
   "source": [
    "y_1 = var('y_1')\n",
    "x_1 = var('x_1')\n",
    "b_2 = var('b_2')\n",
    "b_4 = var('b_4')\n",
    "b_6 = var('b_6')"
   ]
  },
  {
   "cell_type": "code",
   "execution_count": 2,
   "id": "c9ec86ea",
   "metadata": {},
   "outputs": [
    {
     "data": {
      "text/plain": [
       "-1/4*(100*b_2^2*x_1^2 + 60*b_2*x_1^3 + 9*x_1^4 + 4000*b_2*b_4*x_1 + 1200*b_4*x_1^2 - 20*b_2*y_1^2 - 12*x_1*y_1^2 + 40000*b_4^2)/y_1^2"
      ]
     },
     "execution_count": 2,
     "metadata": {},
     "output_type": "execute_result"
    }
   ],
   "source": [
    "# Changes of variables on the growth of torsion \n",
    "s = (8*b_4*5*5 + 2*5*b_2*x_1 + 3*x_1^2)/(2*y_1)\n",
    "\n",
    "elliptic_y_1 = x_1^3 + 5*b_2*x_1^2 + 8*5^2*b_4*x_1 + 16*b_6 #Esto sirve para hacer el cambio de y_1^2\n",
    "\n",
    "f = factor(-s^2 + 3*x_1 + 5*b_2)\n",
    "f"
   ]
  },
  {
   "cell_type": "markdown",
   "id": "a5ccd619",
   "metadata": {},
   "source": [
    "# Computation of the 2-valuation of monomials"
   ]
  },
  {
   "cell_type": "code",
   "execution_count": 3,
   "id": "3898bed1",
   "metadata": {},
   "outputs": [],
   "source": [
    "power = (b_2^4).operator() #Sage Power operation\n",
    "mul = (x_1*y_1).operator() #Sage Multiplication operation\n",
    "\n",
    "def val_2(expr, val_b4, val_b6):\n",
    "    \n",
    "    if expr.is_integer():\n",
    "        return Integer(expr).valuation(5)\n",
    "    \n",
    "    elif expr.operator() == None:\n",
    "        \n",
    "        if expr == x_1 :\n",
    "            return 1\n",
    "        elif expr == y_1:\n",
    "            return 2\n",
    "        \n",
    "        elif expr == b_2:\n",
    "            return 0\n",
    "        \n",
    "        elif expr == b_4:\n",
    "            return val_b4\n",
    "        \n",
    "        else:\n",
    "            return val_b6\n",
    "        \n",
    "    elif expr.operator() == mul:\n",
    "        return sum([val_2(exp, val_b4, val_b6) for exp in expr.operands()])\n",
    "    \n",
    "    elif expr.operator() == power:\n",
    "        \n",
    "        base, exponent = expr.operands()\n",
    "        return exponent*val_2(base, val_b4, val_b6)\n",
    "        \n",
    "    else:\n",
    "        return 0\n",
    "        "
   ]
  },
  {
   "cell_type": "code",
   "execution_count": 4,
   "id": "807e38c3",
   "metadata": {},
   "outputs": [
    {
     "data": {
      "text/plain": [
       "[(4, 100*b_2^2*x_1^2),\n",
       " (4, 60*b_2*x_1^3),\n",
       " (4, 9*x_1^4),\n",
       " (4, 4000*b_2*b_4*x_1),\n",
       " (4, 1200*b_4*x_1^2),\n",
       " (5, -20*b_2*y_1^2),\n",
       " (5, -12*x_1*y_1^2),\n",
       " (4, 40000*b_4^2)]"
      ]
     },
     "execution_count": 4,
     "metadata": {},
     "output_type": "execute_result"
    }
   ],
   "source": [
    "# We choose the 2-valuations of b_4 and b_6 to be 0  \n",
    "valuationsWithMonomials = [(val_2(expresion,0,0), expresion) for expresion in f.operands()[0].operands()]\n",
    "valuationsWithMonomials"
   ]
  },
  {
   "cell_type": "code",
   "execution_count": 5,
   "id": "e1b5768e",
   "metadata": {},
   "outputs": [
    {
     "data": {
      "text/plain": [
       "[100*b_2^2*x_1^2,\n",
       " 60*b_2*x_1^3,\n",
       " 9*x_1^4,\n",
       " 4000*b_2*b_4*x_1,\n",
       " 1200*b_4*x_1^2,\n",
       " -20*b_2*y_1^2,\n",
       " -12*x_1*y_1^2,\n",
       " 40000*b_4^2]"
      ]
     },
     "execution_count": 5,
     "metadata": {},
     "output_type": "execute_result"
    }
   ],
   "source": [
    "f.operands()[0].operands()"
   ]
  },
  {
   "cell_type": "code",
   "execution_count": 6,
   "id": "ff613697",
   "metadata": {},
   "outputs": [
    {
     "data": {
      "text/plain": [
       "100*b_2^2*x_1^2 + 60*b_2*x_1^3 + 9*x_1^4 + 4000*b_2*b_4*x_1 + 1200*b_4*x_1^2 - 20*b_2*y_1^2 - 12*x_1*y_1^2 + 40000*b_4^2"
      ]
     },
     "metadata": {},
     "output_type": "display_data"
    }
   ],
   "source": [
    "display(f.operands()[0])"
   ]
  }
 ],
 "metadata": {
  "kernelspec": {
   "display_name": "SageMath 10.2",
   "language": "sage",
   "name": "sagemath"
  },
  "language_info": {
   "codemirror_mode": {
    "name": "ipython",
    "version": 3
   },
   "file_extension": ".py",
   "mimetype": "text/x-python",
   "name": "python",
   "nbconvert_exporter": "python",
   "pygments_lexer": "ipython3",
   "version": "3.11.9"
  }
 },
 "nbformat": 4,
 "nbformat_minor": 5
}
