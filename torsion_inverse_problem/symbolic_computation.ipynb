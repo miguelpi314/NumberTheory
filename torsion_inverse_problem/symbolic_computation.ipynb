{
 "cells": [
  {
   "cell_type": "markdown",
   "id": "e1b02e7e",
   "metadata": {},
   "source": [
    "# Variables Definition"
   ]
  },
  {
   "cell_type": "code",
   "execution_count": 1,
   "id": "e55d344d",
   "metadata": {},
   "outputs": [],
   "source": [
    "y_1 = var('y_1')\n",
    "x_1 = var('x_1')\n",
    "b_2 = var('b_2')\n",
    "b_4 = var('b_4')\n",
    "b_6 = var('b_6')"
   ]
  },
  {
   "cell_type": "code",
   "execution_count": 2,
   "id": "7cd7440b",
   "metadata": {},
   "outputs": [
    {
     "data": {
      "text/plain": [
       "-1/4*(64*b_2^6*x_1^6 + 576*b_2^5*x_1^7 + 2160*b_2^4*x_1^8 + 4320*b_2^3*x_1^9 + 4860*b_2^2*x_1^10 + 2916*b_2*x_1^11 + 729*x_1^12 + 1536*b_2^5*b_4*x_1^5 + 11520*b_2^4*b_4*x_1^6 + 34560*b_2^3*b_4*x_1^7 + 51840*b_2^2*b_4*x_1^8 + 38880*b_2*b_4*x_1^9 + 11664*b_4*x_1^10 - 192*b_2^5*x_1^4*y_1^2 - 1728*b_2^4*x_1^5*y_1^2 - 6048*b_2^3*x_1^6*y_1^2 - 10368*b_2^2*x_1^7*y_1^2 - 8748*b_2*x_1^8*y_1^2 - 2916*x_1^9*y_1^2 + 15360*b_2^4*b_4^2*x_1^4 + 92160*b_2^3*b_4^2*x_1^5 + 207360*b_2^2*b_4^2*x_1^6 + 207360*b_2*b_4^2*x_1^7 + 77760*b_4^2*x_1^8 - 3072*b_2^4*b_4*x_1^3*y_1^2 - 23040*b_2^3*b_4*x_1^4*y_1^2 - 62208*b_2^2*b_4*x_1^5*y_1^2 - 72576*b_2*b_4*x_1^6*y_1^2 - 31104*b_4*x_1^7*y_1^2 + 192*b_2^4*x_1^2*y_1^4 + 1728*b_2^3*x_1^3*y_1^4 + 5616*b_2^2*x_1^4*y_1^4 + 7776*b_2*x_1^5*y_1^4 + 3888*x_1^6*y_1^4 + 81920*b_2^3*b_4^3*x_1^3 + 368640*b_2^2*b_4^3*x_1^4 + 552960*b_2*b_4^3*x_1^5 + 276480*b_4^3*x_1^6 - 18432*b_2^3*b_4^2*x_1^2*y_1^2 - 110592*b_2^2*b_4^2*x_1^3*y_1^2 - 207360*b_2*b_4^2*x_1^4*y_1^2 - 124416*b_4^2*x_1^5*y_1^2 + 1536*b_2^3*b_4*x_1*y_1^4 + 11520*b_2^2*b_4*x_1^2*y_1^4 + 27648*b_2*b_4*x_1^3*y_1^4 + 20736*b_4*x_1^4*y_1^4 - 64*b_2^3*y_1^6 - 576*b_2^2*x_1*y_1^6 - 1744*b_2*x_1^2*y_1^6 - 1744*x_1^3*y_1^6 + 245760*b_2^2*b_4^4*x_1^2 + 737280*b_2*b_4^4*x_1^3 + 552960*b_4^4*x_1^4 - 49152*b_2^2*b_4^3*x_1*y_1^2 - 221184*b_2*b_4^3*x_1^2*y_1^2 - 221184*b_4^3*x_1^3*y_1^2 + 3072*b_2^2*b_4^2*y_1^4 + 18432*b_2*b_4^2*x_1*y_1^4 + 27648*b_4^2*x_1^2*y_1^4 - 128*b_4*x_1*y_1^6 + 393216*b_2*b_4^5*x_1 + 589824*b_4^5*x_1^2 - 49152*b_2*b_4^4*y_1^2 - 147456*b_4^4*x_1*y_1^2 - 256*b_6*y_1^6 + 262144*b_4^6)/y_1^6"
      ]
     },
     "execution_count": 2,
     "metadata": {},
     "output_type": "execute_result"
    }
   ],
   "source": [
    "s = (8*b_4 + 2*b_2*x_1 + 3*x_1^2)/(2*y_1)\n",
    "\n",
    "elliptic_y_1 = x_1^3 + b_2*x_1^2 + 8*b_4*x_1 + 16*b_6 #Esto sirve para hacer el cambio de y_1^2\n",
    "\n",
    "f = factor(4*elliptic_y_1 + 16*(-s^2 + 3*x_1 + b_2)^3)\n",
    "f"
   ]
  },
  {
   "cell_type": "markdown",
   "id": "215fa146",
   "metadata": {},
   "source": [
    "# Monomials Valuation"
   ]
  },
  {
   "cell_type": "code",
   "execution_count": 3,
   "id": "2cd41048",
   "metadata": {},
   "outputs": [],
   "source": [
    "power = (b_2^4).operator() #operación potencia de Sage\n",
    "mul = (x_1*y_1).operator() #operación multiplicación de Sage\n",
    "\n",
    "def val_2(expr, val_b4, val_b6):\n",
    "    \n",
    "    if expr.is_integer():\n",
    "        return Integer(expr).valuation(2)\n",
    "    \n",
    "    elif expr.operator() == None:\n",
    "        \n",
    "        if expr == x_1 or expr == y_1:\n",
    "            return 1\n",
    "        \n",
    "        elif expr == b_2:\n",
    "            return 0\n",
    "        \n",
    "        elif expr == b_4:\n",
    "            return val_b4\n",
    "        \n",
    "        else:\n",
    "            return val_b6\n",
    "        \n",
    "    elif expr.operator() == mul:\n",
    "        return sum([val_2(exp, val_b4, val_b6) for exp in expr.operands()])\n",
    "    \n",
    "    elif expr.operator() == power:\n",
    "        \n",
    "        base, exponent = expr.operands()\n",
    "        return exponent*val_2(base, val_b4, val_b6)\n",
    "        \n",
    "    else:\n",
    "        return 0\n",
    "        "
   ]
  },
  {
   "cell_type": "code",
   "execution_count": 4,
   "id": "cf036be7",
   "metadata": {},
   "outputs": [
    {
     "data": {
      "text/plain": [
       "[(12, 64*b_2^6*x_1^6),\n",
       " (12, 2160*b_2^4*x_1^8),\n",
       " (12, 4860*b_2^2*x_1^10),\n",
       " (12, 729*x_1^12),\n",
       " (12, -192*b_2^5*x_1^4*y_1^2),\n",
       " (12, -8748*b_2*x_1^8*y_1^2),\n",
       " (12, 192*b_2^4*x_1^2*y_1^4),\n",
       " (12, 5616*b_2^2*x_1^4*y_1^4),\n",
       " (12, -64*b_2^3*y_1^6),\n",
       " (12, -1744*b_2*x_1^2*y_1^6)]"
      ]
     },
     "execution_count": 4,
     "metadata": {},
     "output_type": "execute_result"
    }
   ],
   "source": [
    "# We set the valuations of b_4 and b_6 to 0, but it doesn't matter because they do not appear. \n",
    "# We print the summands with valuation 12.\n",
    "\n",
    "valuationsWithMonomials = [(val_2(expresion,0,0), expresion) for expresion in f.operands()[0].operands()]\n",
    "valuationsWithMonomials_filtered_12 = [(val, expresion) for val, expresion in valuationsWithMonomials if val==12]\n",
    "valuationsWithMonomials_filtered_12"
   ]
  },
  {
   "cell_type": "code",
   "execution_count": 5,
   "id": "9e4f0a84",
   "metadata": {},
   "outputs": [
    {
     "data": {
      "text/plain": [
       "[(13, 576*b_2^5*x_1^7),\n",
       " (13, 2916*b_2*x_1^11),\n",
       " (13, -1728*b_2^4*x_1^5*y_1^2),\n",
       " (13, -6048*b_2^3*x_1^6*y_1^2),\n",
       " (13, -2916*x_1^9*y_1^2),\n",
       " (13, 1728*b_2^3*x_1^3*y_1^4),\n",
       " (13, -576*b_2^2*x_1*y_1^6),\n",
       " (13, -1744*x_1^3*y_1^6)]"
      ]
     },
     "execution_count": 5,
     "metadata": {},
     "output_type": "execute_result"
    }
   ],
   "source": [
    "# We set the valuations of b_4 and b_6 to 0, but it doesn't matter because they do not appear. \n",
    "# We print the summands with valuation 13.\n",
    "valuationsWithMonomials_filtered_13 = [(a,b) for (a,b) in valuationsWithMonomials if a == 13]\n",
    "valuationsWithMonomials_filtered_13"
   ]
  },
  {
   "cell_type": "code",
   "execution_count": 6,
   "id": "59dd6812",
   "metadata": {},
   "outputs": [
    {
     "data": {
      "text/plain": [
       "64*b_2^6*x_1^6 + 9720*b_2^2*x_1^10 + 729*x_1^12 - 192*b_2^5*x_1^4*y_1^2 - 8748*b_2*x_1^8*y_1^2 + 192*b_2^4*x_1^2*y_1^4 + 5616*b_2^2*x_1^4*y_1^4 - 64*b_2^3*y_1^6 - 1744*b_2*x_1^2*y_1^6"
      ]
     },
     "execution_count": 6,
     "metadata": {},
     "output_type": "execute_result"
    }
   ],
   "source": [
    "# We construct the sum of the terms with valuation 12, subtracting the two used in the proof, so that together \n",
    "# they give valuation 13.\n",
    "\n",
    "g = 0\n",
    "\n",
    "for b in [b for (a,b) in valuationsWithMonomials_filtered_12]:\n",
    "    g += b\n",
    "    \n",
    "g = g - 2160*b_2^4*x_1^8 + 4860*b_2^2*x_1^10\n",
    "g"
   ]
  },
  {
   "cell_type": "code",
   "execution_count": 7,
   "id": "e9e3d6c3",
   "metadata": {},
   "outputs": [
    {
     "data": {
      "text/plain": [
       "3872*b_2^4*x_1^8 + 5936*b_2^3*x_1^9 + 1356*b_2^2*x_1^10 - 10492*b_2*x_1^11 + 729*x_1^12 + 46464*b_2^3*b_4*x_1^7 + 6144*b_2^2*b_4*x_1^8 - 111840*b_2*b_4*x_1^9 - 12288*b_2^3*b_4^2*x_1^5 + 24576*b_2^2*b_4^2*x_1^6 + 92928*b_2^3*b_6*x_1^6 - 334848*b_2*b_4^2*x_1^7 + 12288*b_2^2*b_6*x_1^7 - 223680*b_2*b_6*x_1^8 - 32768*b_2^3*b_4^3*x_1^3 - 49152*b_2^3*b_4*b_6*x_1^4 - 892928*b_2*b_4^3*x_1^5 + 98304*b_2^2*b_4*b_6*x_1^5 - 1339392*b_2*b_4*b_6*x_1^6 - 196608*b_2^3*b_4^2*b_6*x_1^2 - 49152*b_2^3*b_6^2*x_1^3 - 5357568*b_2*b_4^2*b_6*x_1^4 + 98304*b_2^2*b_6^2*x_1^4 - 1339392*b_2*b_6^2*x_1^5 - 393216*b_2^3*b_4*b_6^2*x_1 - 10715136*b_2*b_4*b_6^2*x_1^3 - 262144*b_2^3*b_6^3 - 7143424*b_2*b_6^3*x_1^2"
      ]
     },
     "execution_count": 7,
     "metadata": {},
     "output_type": "execute_result"
    }
   ],
   "source": [
    "# Sustituimos y_1^2 por x_1^3 + b_2*x_1^2 + 8*b_4*x_1 + 16*b_6\n",
    "g = g.subs({y_1^2: elliptic_y_1, y_1^4: elliptic_y_1^2, y_1^6:elliptic_y_1^3}).factor()\n",
    "g"
   ]
  },
  {
   "cell_type": "code",
   "execution_count": null,
   "id": "a3f3430d",
   "metadata": {},
   "outputs": [],
   "source": []
  },
  {
   "cell_type": "code",
   "execution_count": 8,
   "id": "d11bac40",
   "metadata": {},
   "outputs": [
    {
     "data": {
      "text/plain": [
       "[(13, 3872*b_2^4*x_1^8),\n",
       " (13, 5936*b_2^3*x_1^9),\n",
       " (12, 1356*b_2^2*x_1^10),\n",
       " (13, -10492*b_2*x_1^11),\n",
       " (12, 729*x_1^12),\n",
       " (14, 46464*b_2^3*b_4*x_1^7),\n",
       " (14, -111840*b_2*b_4*x_1^9),\n",
       " (14, 92928*b_2^3*b_6*x_1^6),\n",
       " (14, -223680*b_2*b_6*x_1^8)]"
      ]
     },
     "execution_count": 8,
     "metadata": {},
     "output_type": "execute_result"
    }
   ],
   "source": [
    "# Buscamos los que tengan valoración menor o igual que 14 asumiendo que b_4 y b_6 tienen \n",
    "#la valoración lo más pequeña posible, i.e. 0\n",
    "valuationsWithMonomials_g = [(val_2(expresion,0,0), expresion) for expresion in g.factor().operands()]\n",
    "valuationsWithMonomials_g_filtered = [(val, expresion) for val, expresion in valuationsWithMonomials_g if val<=14]\n",
    "valuationsWithMonomials_g_filtered"
   ]
  },
  {
   "cell_type": "code",
   "execution_count": 9,
   "id": "fe76be5b",
   "metadata": {},
   "outputs": [
    {
     "data": {
      "text/plain": [
       "2^2 * 3 * 17 * 41"
      ]
     },
     "execution_count": 9,
     "metadata": {},
     "output_type": "execute_result"
    }
   ],
   "source": [
    "factor(8364)"
   ]
  },
  {
   "cell_type": "code",
   "execution_count": 10,
   "id": "85058164",
   "metadata": {},
   "outputs": [
    {
     "data": {
      "text/plain": [
       "2091"
      ]
     },
     "execution_count": 10,
     "metadata": {},
     "output_type": "execute_result"
    }
   ],
   "source": [
    "3 * 17 * 41"
   ]
  },
  {
   "cell_type": "code",
   "execution_count": 11,
   "id": "f77d151d",
   "metadata": {},
   "outputs": [
    {
     "data": {
      "text/plain": [
       "3"
      ]
     },
     "execution_count": 11,
     "metadata": {},
     "output_type": "execute_result"
    }
   ],
   "source": [
    "2091%4"
   ]
  },
  {
   "cell_type": "code",
   "execution_count": 15,
   "id": "79f9118a",
   "metadata": {},
   "outputs": [],
   "source": [
    "k = var('k')\n",
    "t = var('t')"
   ]
  },
  {
   "cell_type": "code",
   "execution_count": 13,
   "id": "e19bb8c3",
   "metadata": {},
   "outputs": [],
   "source": [
    "u = 1 + 5*k\n",
    "b = -9 + 25*t"
   ]
  },
  {
   "cell_type": "code",
   "execution_count": 14,
   "id": "364173e0",
   "metadata": {},
   "outputs": [
    {
     "data": {
      "text/plain": [
       "75*k^2 + 200*t - 75"
      ]
     },
     "execution_count": 14,
     "metadata": {},
     "output_type": "execute_result"
    }
   ],
   "source": [
    "(3*u^2-6*u +8*b).factor()"
   ]
  },
  {
   "cell_type": "code",
   "execution_count": null,
   "id": "6663b42b",
   "metadata": {},
   "outputs": [],
   "source": []
  },
  {
   "cell_type": "code",
   "execution_count": 1,
   "id": "6a112ee8",
   "metadata": {},
   "outputs": [],
   "source": [
    "k = var('k')"
   ]
  },
  {
   "cell_type": "code",
   "execution_count": 2,
   "id": "fff84fff",
   "metadata": {},
   "outputs": [],
   "source": [
    "t= -1+ 3*k\n"
   ]
  },
  {
   "cell_type": "code",
   "execution_count": 3,
   "id": "f794653a",
   "metadata": {},
   "outputs": [
    {
     "data": {
      "text/plain": [
       "27*k^3 - 81*k^2 + 54*k - 9"
      ]
     },
     "execution_count": 3,
     "metadata": {},
     "output_type": "execute_result"
    }
   ],
   "source": [
    "(t^3+3*t-6*t^2+1).factor()"
   ]
  },
  {
   "cell_type": "code",
   "execution_count": 4,
   "id": "288e59da",
   "metadata": {},
   "outputs": [
    {
     "data": {
      "text/plain": [
       "9*k^2 - 9*k + 3"
      ]
     },
     "execution_count": 4,
     "metadata": {},
     "output_type": "execute_result"
    }
   ],
   "source": [
    "(t^2-t+1).factor()"
   ]
  },
  {
   "cell_type": "code",
   "execution_count": null,
   "id": "01d022ef",
   "metadata": {},
   "outputs": [],
   "source": [
    "k = var('k')"
   ]
  },
  {
   "cell_type": "code",
   "execution_count": 4,
   "id": "f317dd37",
   "metadata": {},
   "outputs": [],
   "source": [
    "t= 3+ 7*k"
   ]
  },
  {
   "cell_type": "code",
   "execution_count": 5,
   "id": "90d4288a",
   "metadata": {},
   "outputs": [
    {
     "data": {
      "text/plain": [
       "49*k^2 + 35*k + 7"
      ]
     },
     "execution_count": 5,
     "metadata": {},
     "output_type": "execute_result"
    }
   ],
   "source": [
    "(t^2-t+1).factor()"
   ]
  },
  {
   "cell_type": "code",
   "execution_count": 6,
   "id": "a3adfab9",
   "metadata": {},
   "outputs": [
    {
     "data": {
      "text/plain": [
       "343*k^3 + 147*k^2 - 42*k - 17"
      ]
     },
     "execution_count": 6,
     "metadata": {},
     "output_type": "execute_result"
    }
   ],
   "source": [
    "(t^3-6*t^2+3*t+1).factor()"
   ]
  },
  {
   "cell_type": "code",
   "execution_count": null,
   "id": "b0aab126",
   "metadata": {},
   "outputs": [],
   "source": []
  }
 ],
 "metadata": {
  "kernelspec": {
   "display_name": "SageMath 10.2",
   "language": "sage",
   "name": "sagemath"
  },
  "language_info": {
   "codemirror_mode": {
    "name": "ipython",
    "version": 3
   },
   "file_extension": ".py",
   "mimetype": "text/x-python",
   "name": "python",
   "nbconvert_exporter": "python",
   "pygments_lexer": "ipython3",
   "version": "3.11.9"
  }
 },
 "nbformat": 4,
 "nbformat_minor": 5
}
