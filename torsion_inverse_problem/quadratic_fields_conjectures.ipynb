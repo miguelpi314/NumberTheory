{
 "cells": [
  {
   "cell_type": "code",
   "execution_count": 1,
   "id": "54bd3a6d",
   "metadata": {},
   "outputs": [
    {
     "name": "stderr",
     "output_type": "stream",
     "text": [
      "INFO:LMFDB@2025-10-04 10:49:52,846: Configuration = {'flask_options': {'port': 37777, 'host': '127.0.0.1', 'debug': True, 'use_reloader': False}, 'postgresql_options': {'port': 5432, 'host': 'devmirror.lmfdb.xyz', 'dbname': 'lmfdb', 'user': 'lmfdb', 'password': '****'}, 'logging_options': {'logfile': 'flasklog', 'slowcutoff': 0.1, 'slowlogfile': 'slow_queries.log', 'editor': '', 'loglevel': 20}} \n",
      "INFO:LMFDB@2025-10-04 10:49:52,978: Connecting to PostgresSQL server as: user=lmfdb host=devmirror.lmfdb.xyz port=5432 dbname=lmfdb... \n",
      "INFO:LMFDB@2025-10-04 10:49:54,707: Done!\n",
      " connection = <connection object at 0x7de253f42200; dsn: 'user=lmfdb password=xxx dbname=lmfdb host=devmirror.lmfdb.xyz port=5432', closed: 0> \n",
      "2025-10-04 10:49:56,059 - SELECT pg_is_in_recovery() ran in \u001b[91m 0.2722287178039551s \u001b[0m\n",
      "2025-10-04 10:49:56,867 - SELECT current_setting('is_superuser') ran in \u001b[91m 0.5404033660888672s \u001b[0m\n",
      "INFO:LMFDB@2025-10-04 10:49:57,135: User: lmfdb \n",
      "INFO:LMFDB@2025-10-04 10:49:57,136: Read only: True \n",
      "INFO:LMFDB@2025-10-04 10:49:57,137: Super user: False \n",
      "INFO:LMFDB@2025-10-04 10:49:57,138: Read/write to userdb: False \n",
      "INFO:LMFDB@2025-10-04 10:49:57,138: Read/write to knowls: False \n",
      "2025-10-04 10:49:59,366 - SELECT table_name, column_name, udt_name::regtype FROM information_schema.columns ORDER BY table_name, ordinal_position ran in \u001b[91m 2.2264506816864014s \u001b[0m\n",
      "2025-10-04 10:50:00,210 - SELECT name, label_col, sort, count_cutoff, id_ordered, out_of_order, has_extras, stats_valid, total, include_nones FROM meta_tables ran in \u001b[91m 0.5326788425445557s \u001b[0m\n"
     ]
    }
   ],
   "source": [
    "from collections import defaultdict\n",
    "from lmfdb import db\n",
    "import joblib"
   ]
  },
  {
   "cell_type": "markdown",
   "id": "804efc18",
   "metadata": {},
   "source": [
    "# Downloading Data"
   ]
  },
  {
   "cell_type": "code",
   "execution_count": null,
   "id": "d5f612a9",
   "metadata": {},
   "outputs": [],
   "source": [
    "query = [('ec_torsion_growth', {'degree' : int(2)})]\n",
    "torsion_growth_with_local_data = db.ec_torsion_growth.join_search(query=query, \n",
    "                                        projection=[\"lmfdb_label\", \"torsion\", \"degree\", \"field\", \"conductor\", (\"ec_curvedata\", \"torsion_structure\"),(\"ec_curvedata\", \"absD\"),(\"ec_curvedata\", \"ainvs\"),(\"ec_localdata\", \"reduction_type\"),(\"ec_localdata\",\"prime\"),(\"ec_localdata\",\"kodaira_symbol\")], \n",
    "                                        join=[(\"ec_torsion_growth\", \"lmfdb_label\", \"ec_curvedata\",\"lmfdb_label\"), (\"ec_torsion_growth\", \"lmfdb_label\", \"ec_localdata\",\"lmfdb_label\")])\n"
   ]
  },
  {
   "cell_type": "code",
   "execution_count": null,
   "id": "0f105e94",
   "metadata": {},
   "outputs": [],
   "source": [
    "# Before running this make sure having a good internet connection.\n",
    "# It will take 2 to 4 hours"
   ]
  },
  {
   "cell_type": "code",
   "execution_count": null,
   "id": "8c3670b0",
   "metadata": {},
   "outputs": [],
   "source": [
    "torsion_growth_with_local_data = list(torsion_growth_with_local_data)"
   ]
  },
  {
   "cell_type": "code",
   "execution_count": null,
   "id": "c99b8cff",
   "metadata": {},
   "outputs": [],
   "source": [
    "x = polygen(ZZ,'x')\n",
    "\n",
    "for elliptic_curve in torsion_growth_with_local_data:\n",
    "    elliptic_curve['torsion_before'] = elliptic_curve[('ec_curvedata','torsion_structure')]\n",
    "    elliptic_curve['torsion_after'] = elliptic_curve['torsion']\n",
    "    elliptic_curve['curve_discriminant'] = elliptic_curve[('ec_curvedata','absD')]\n",
    "    elliptic_curve['prime'] = elliptic_curve[('ec_localdata', 'prime')]\n",
    "    elliptic_curve['kodaira_symbol'] = elliptic_curve[('ec_localdata', 'kodaira_symbol')]\n",
    "    elliptic_curve['reduction_type'] = elliptic_curve[('ec_localdata','reduction_type')]\n",
    "    elliptic_curve['coefficients'] = elliptic_curve[(\"ec_curvedata\", \"ainvs\")]\n",
    "    \n",
    "    del elliptic_curve['torsion']\n",
    "    del elliptic_curve[('ec_curvedata','torsion_structure')]\n",
    "    del elliptic_curve[('ec_curvedata','absD')]\n",
    "    del elliptic_curve[('ec_localdata', 'prime')]\n",
    "    del elliptic_curve[('ec_localdata', 'kodaira_symbol')]\n",
    "    del elliptic_curve[('ec_localdata','reduction_type')]\n",
    "    del elliptic_curve[(\"ec_curvedata\", \"ainvs\")]\n",
    "    \n",
    "    f = elliptic_curve['field']\n",
    "    K.<a> = NumberField(f[0]*x^2+ f[1]*x + f[2]) \n",
    "    elliptic_curve['disc_abs'] = K.absolute_discriminant()"
   ]
  },
  {
   "cell_type": "code",
   "execution_count": null,
   "id": "d0566307",
   "metadata": {},
   "outputs": [],
   "source": [
    "# Diccionario para agrupar por lmfdb_label, torsion_before y torsion_after\n",
    "grouped_data = defaultdict(lambda: {'lmfdb_label': '', 'coefficients': [],\n",
    "      'degree': None, 'field': [], 'conductor': None, 'torsion_before': [], 'torsion_after': [], 'curve_discriminant': None, 'disc_abs': None, 'prime_red_kodaira': []})\n",
    "\n",
    "# Agrupamos los datos\n",
    "for entry in torsion_growth_with_local_data:\n",
    "    key = (entry['lmfdb_label'], tuple(entry['torsion_before']), tuple(entry['torsion_after']),int(entry['disc_abs']))\n",
    "    grouped_data[key]['lmfdb_label'] = entry['lmfdb_label']\n",
    "    grouped_data[key]['degree'] = entry['degree']\n",
    "    grouped_data[key]['field'] = entry['field']\n",
    "    grouped_data[key]['conductor'] = entry['conductor']\n",
    "    grouped_data[key]['torsion_before'] = entry['torsion_before']\n",
    "    grouped_data[key]['torsion_after'] = entry['torsion_after']\n",
    "    grouped_data[key]['curve_discriminant'] = entry['curve_discriminant']\n",
    "    grouped_data[key]['disc_abs'] = entry['disc_abs']\n",
    "    grouped_data[key]['coefficients'] = entry['coefficients']\n",
    "    \n",
    "    # Añadimos el triple (prime, kodaira_symbol, reduction_type)\n",
    "    grouped_data[key]['prime_red_kodaira'].append((entry['prime'],  entry['reduction_type'],entry['kodaira_symbol']))\n",
    "\n",
    "# Convertimos el resultado a una lista de diccionarios\n",
    "torsion_growth_with_local_data = list(grouped_data.values())"
   ]
  },
  {
   "cell_type": "code",
   "execution_count": null,
   "id": "0947f329",
   "metadata": {},
   "outputs": [],
   "source": [
    "torsion_growth_with_local_data[0]"
   ]
  },
  {
   "cell_type": "code",
   "execution_count": null,
   "id": "b5d8521f",
   "metadata": {},
   "outputs": [],
   "source": [
    "import joblib\n",
    "\n",
    "# Definir el tamaño del fragmento\n",
    "tamano_fragmento = 100000  \n",
    "\n",
    "# Dividir y guardar cada fragmento\n",
    "for i in range(0, len(torsion_growth_with_local_data), tamano_fragmento):\n",
    "    fragmento = torsion_growth_with_local_data[i:i + tamano_fragmento]\n",
    "    nombre_archivo = f'torsion_growth_with_local_data_{i // tamano_fragmento}.pkl'\n",
    "    joblib.dump(fragmento, nombre_archivo)\n",
    "    print(f'Fragment {i // tamano_fragmento} saved as {nombre_archivo}')\n",
    "\n"
   ]
  },
  {
   "cell_type": "markdown",
   "id": "bafcd8fd",
   "metadata": {},
   "source": [
    "# Loading Data"
   ]
  },
  {
   "cell_type": "code",
   "execution_count": 2,
   "id": "8c64ba22",
   "metadata": {},
   "outputs": [
    {
     "name": "stdout",
     "output_type": "stream",
     "text": [
      "List of curves ready.\n"
     ]
    }
   ],
   "source": [
    "import glob\n",
    "\n",
    "# List to store the loaded fragments\n",
    "torsion_growth_with_local_data = []\n",
    "\n",
    "# Load each fragment and add it to the complete list\n",
    "for nombre_archivo in sorted(glob.glob('data/torsion_growth_with_local_data_*.pkl')):\n",
    "    fragmento = joblib.load(nombre_archivo)\n",
    "    torsion_growth_with_local_data.extend(fragmento)\n",
    "\n",
    "print(\"List of curves ready.\")\n"
   ]
  },
  {
   "cell_type": "code",
   "execution_count": 3,
   "id": "8a3aae9d",
   "metadata": {},
   "outputs": [],
   "source": [
    "torsion_growth_with_local_data_grouped_by_label= {}\n",
    "\n",
    "# List to store the loaded fragments\n",
    "for curve in torsion_growth_with_local_data:\n",
    "    label = curve['lmfdb_label']\n",
    "    # Load each fragment and add it to the complete list\n",
    "    if label not in torsion_growth_with_local_data_grouped_by_label:\n",
    "        torsion_growth_with_local_data_grouped_by_label[label] = []\n",
    "    torsion_growth_with_local_data_grouped_by_label[label].append(curve)"
   ]
  },
  {
   "cell_type": "code",
   "execution_count": 4,
   "id": "5c1615dc",
   "metadata": {},
   "outputs": [
    {
     "data": {
      "text/plain": [
       "{'lmfdb_label': '100.a1',\n",
       " 'coefficients': [0, -1, 0, -1033, -12438],\n",
       " 'degree': 2,\n",
       " 'field': [-1, -1, 1],\n",
       " 'conductor': 100,\n",
       " 'torsion_before': [2],\n",
       " 'torsion_after': [2, 2],\n",
       " 'curve_discriminant': 31250000,\n",
       " 'disc_abs': 5,\n",
       " 'prime_red_kodaira': [(2, 0, 4), (5, 0, -7)]}"
      ]
     },
     "execution_count": 4,
     "metadata": {},
     "output_type": "execute_result"
    }
   ],
   "source": [
    "torsion_growth_with_local_data[0]"
   ]
  },
  {
   "cell_type": "code",
   "execution_count": 5,
   "id": "160fb3cf",
   "metadata": {},
   "outputs": [
    {
     "data": {
      "text/plain": [
       "[{'lmfdb_label': '100.a1',\n",
       "  'coefficients': [0, -1, 0, -1033, -12438],\n",
       "  'degree': 2,\n",
       "  'field': [-1, -1, 1],\n",
       "  'conductor': 100,\n",
       "  'torsion_before': [2],\n",
       "  'torsion_after': [2, 2],\n",
       "  'curve_discriminant': 31250000,\n",
       "  'disc_abs': 5,\n",
       "  'prime_red_kodaira': [(2, 0, 4), (5, 0, -7)]},\n",
       " {'lmfdb_label': '100.a1',\n",
       "  'coefficients': [0, -1, 0, -1033, -12438],\n",
       "  'degree': 2,\n",
       "  'field': [4, -1, 1],\n",
       "  'conductor': 100,\n",
       "  'torsion_before': [2],\n",
       "  'torsion_after': [6],\n",
       "  'curve_discriminant': 31250000,\n",
       "  'disc_abs': -15,\n",
       "  'prime_red_kodaira': [(2, 0, 4), (5, 0, -7)]}]"
      ]
     },
     "execution_count": 5,
     "metadata": {},
     "output_type": "execute_result"
    }
   ],
   "source": [
    "torsion_growth_with_local_data_grouped_by_label['100.a1']"
   ]
  },
  {
   "cell_type": "markdown",
   "id": "714881ee",
   "metadata": {},
   "source": [
    "# Auxiliar Functions"
   ]
  },
  {
   "cell_type": "code",
   "execution_count": 6,
   "id": "001b8f61",
   "metadata": {},
   "outputs": [],
   "source": [
    "\n",
    "def explicit_torsion(torsion_before, torsion_after, curve):\n",
    "    return curve['torsion_before'] == torsion_before and curve['torsion_after'] == torsion_after\n",
    "\n",
    "def add_N_torsion_point(order,curve):\n",
    "    \n",
    "    torsion_after = curve['torsion_after']\n",
    "    torsion_before = curve['torsion_before']\n",
    "    \n",
    "    length_before = len(torsion_before)\n",
    "    length_after = len(torsion_after)\n",
    "    \n",
    "    add_torsion = False\n",
    "    \n",
    "    if length_after == length_before:\n",
    "        for i in range(length_before):\n",
    "            add_torsion = add_torsion or ((torsion_after[i]%order == 0) and (torsion_before[i]%order != 0))\n",
    "        \n",
    "        \n",
    "        return add_torsion\n",
    "    elif not torsion_before:\n",
    "        return any([torsion_after[i]%order == 0 for i in range(length_after)])\n",
    "    \n",
    "    else:\n",
    "        return (torsion_after[1]%order == 0) or ((torsion_after[0]%order == 0) and (torsion_before[0]%order != 0))\n",
    "            \n",
    "    \n",
    "def addditiveReduction(prime, curve):\n",
    "    return any([p==prime and r == 0 for p,r,k in curve['prime_red_kodaira']])\n",
    "\n",
    "def kodairaSymbol(prime, symbol, curve):\n",
    "    return any([p==prime and k==symbol for p,r,k in curve['prime_red_kodaira']])\n",
    "\n",
    "def extractExponent(number, prime):\n",
    "    return [e for p,e in list(factor(number)) if p == 3][0]\n",
    "\n",
    "def removeDuplicatesByProperty(curves, propName, propValue):\n",
    "    return [curve for curve in curves if curve[propName] == propValue]\n",
    "\n",
    "def compute_c6(curve):\n",
    "    a1,a2,a3,a4,a6 = curve['coefficients']\n",
    "    b2 = a1^2+4*a2 \n",
    "    b4 = 2*a4 + a1*a3\n",
    "    b6 = a3^2+4*a6\n",
    "    return -b2^3+36*b2*b4-216*b6\n",
    "\n",
    "def compute_c4(curve):\n",
    "    a1,a2,a3,a4,a6 = curve['coefficients']\n",
    "    b2 = a1^2+4*a2 \n",
    "    b4 = 2*a4 + a1*a3\n",
    "    return b2^2-24*b4\n"
   ]
  },
  {
   "cell_type": "code",
   "execution_count": 7,
   "id": "12d5dc88",
   "metadata": {},
   "outputs": [
    {
     "data": {
      "text/plain": [
       "False"
      ]
     },
     "execution_count": 7,
     "metadata": {},
     "output_type": "execute_result"
    }
   ],
   "source": [
    "add_N_torsion_point(4, torsion_growth_with_local_data[0])"
   ]
  },
  {
   "cell_type": "markdown",
   "id": "4da7a0f6",
   "metadata": {},
   "source": [
    "# Conjectures case by case"
   ]
  },
  {
   "cell_type": "markdown",
   "id": "2e781d55",
   "metadata": {},
   "source": [
    "### $\\mathcal{C}_1\\longrightarrow \\mathcal{C}_3$"
   ]
  },
  {
   "cell_type": "code",
   "execution_count": 8,
   "id": "353f8724",
   "metadata": {},
   "outputs": [
    {
     "data": {
      "text/plain": [
       "141560"
      ]
     },
     "execution_count": 8,
     "metadata": {},
     "output_type": "execute_result"
    }
   ],
   "source": [
    "curves_C1_C3 = list(filter(lambda curve : explicit_torsion([], [3],curve), torsion_growth_with_local_data))\n",
    "len(curves_C1_C3)"
   ]
  },
  {
   "cell_type": "markdown",
   "id": "c87e0713",
   "metadata": {},
   "source": [
    "# Conjecture\n",
    "\n",
    "If a prime \\( p \\) divides \\( D \\), the discriminant of $\\mathbb{Q}(\\sqrt{d})$, then the curve has additive bad reduction at \\( p \\), unless \\( p = 3 \\), where $\\mathbb{Q}(\\sqrt{d})$ is the field where the torsion grows.\n",
    "\n",
    "If \\( p = 3 \\), there are examples with all types of reduction at 3, although it might be possible to relate the behavior of 3, i.e., whether it appears or not, to its type of reduction.\n"
   ]
  },
  {
   "cell_type": "code",
   "execution_count": 9,
   "id": "0af1362f",
   "metadata": {},
   "outputs": [
    {
     "data": {
      "text/plain": [
       "0"
      ]
     },
     "execution_count": 9,
     "metadata": {},
     "output_type": "execute_result"
    }
   ],
   "source": [
    "def direct_conjecture_C1_C3(curve):\n",
    "    primes_discriminant = [p for p,e in list(curve['disc_abs'].factor())]\n",
    "    bad_reduction_primes = dict()\n",
    "    for p, red, kodaira in curve['prime_red_kodaira']:\n",
    "        bad_reduction_primes[p] = red\n",
    "    for p in primes_discriminant:\n",
    "        if p not in bad_reduction_primes.keys():\n",
    "            bad_reduction_primes[p] = \"good reduction\"\n",
    "        \n",
    "    return all([(bad_reduction_primes[p] == 0) or (p ==3 )\n",
    "                for p in primes_discriminant])\n",
    "\n",
    "len([curve for curve in curves_C1_C3 if not direct_conjecture_C1_C3(curve)])"
   ]
  },
  {
   "cell_type": "code",
   "execution_count": 10,
   "id": "994a3dbd",
   "metadata": {},
   "outputs": [
    {
     "data": {
      "text/plain": [
       "0"
      ]
     },
     "execution_count": 10,
     "metadata": {},
     "output_type": "execute_result"
    }
   ],
   "source": [
    "def reciprocal_conjecture_C1_C3(curve):\n",
    "    \n",
    "    primes_with_additive_reduction = [(p, kodaira) for p,red,kodaira in curve['prime_red_kodaira'] if red == 0]\n",
    "    conjecture_without_3 = all([(curve['disc_abs']%prime ==0) or kodaira ==-4 or kodaira == 4 for (prime, kodaira) in primes_with_additive_reduction if prime!=3])\n",
    "    \n",
    "    return all([conjecture_without_3])\n",
    "\n",
    "\n",
    "len([curve for curve in curves_C1_C3 if  not reciprocal_conjecture_C1_C3(curve)])"
   ]
  },
  {
   "cell_type": "code",
   "execution_count": 11,
   "id": "5d9e5238",
   "metadata": {},
   "outputs": [
    {
     "data": {
      "text/plain": [
       "{(2, 3, 9)}"
      ]
     },
     "execution_count": 11,
     "metadata": {},
     "output_type": "execute_result"
    }
   ],
   "source": [
    "set([((compute_c4(curve)).valuation(3),(compute_c6(curve)).valuation(3), (curve['curve_discriminant']).valuation(3))  for curve in curves_C1_C3 if   (kodairaSymbol(3,-7, curve)) and curve['disc_abs']%3!=0])"
   ]
  },
  {
   "cell_type": "code",
   "execution_count": 12,
   "id": "d2c19c26",
   "metadata": {},
   "outputs": [
    {
     "data": {
      "text/plain": [
       "{(2, 3, 9)}"
      ]
     },
     "execution_count": 12,
     "metadata": {},
     "output_type": "execute_result"
    }
   ],
   "source": [
    "set([((compute_c4(curve)).valuation(3),(compute_c6(curve)).valuation(3), (curve['curve_discriminant']).valuation(3))  for curve in curves_C1_C3 if   (kodairaSymbol(3,-7, curve)) and curve['disc_abs']%3==0])"
   ]
  },
  {
   "cell_type": "code",
   "execution_count": 13,
   "id": "13d610bc",
   "metadata": {},
   "outputs": [
    {
     "data": {
      "text/plain": [
       "5257"
      ]
     },
     "execution_count": 13,
     "metadata": {},
     "output_type": "execute_result"
    }
   ],
   "source": [
    "len([curve for curve in curves_C1_C3 if \n",
    "     (kodairaSymbol(3,-1, curve)) and curve['disc_abs']%3==0])"
   ]
  },
  {
   "cell_type": "code",
   "execution_count": 14,
   "id": "524ac9b5",
   "metadata": {},
   "outputs": [
    {
     "data": {
      "text/plain": [
       "set()"
      ]
     },
     "execution_count": 14,
     "metadata": {},
     "output_type": "execute_result"
    }
   ],
   "source": [
    "set([extractExponent(curve['curve_discriminant'], 3) for curve in curves_C1_C3 if \n",
    "     (kodairaSymbol(3,4, curve)) and curve['disc_abs']%3==0])"
   ]
  },
  {
   "cell_type": "code",
   "execution_count": 15,
   "id": "f10f21b7",
   "metadata": {},
   "outputs": [
    {
     "data": {
      "text/plain": [
       "141560"
      ]
     },
     "execution_count": 15,
     "metadata": {},
     "output_type": "execute_result"
    }
   ],
   "source": [
    "curves_C1_C3 = list(filter(lambda curve : explicit_torsion([], [3],curve), torsion_growth_with_local_data))\n",
    "len(curves_C1_C3)"
   ]
  },
  {
   "cell_type": "markdown",
   "id": "9b83a830",
   "metadata": {},
   "source": [
    "### $\\mathcal{C}_1\\longrightarrow \\mathcal{C}_5$"
   ]
  },
  {
   "cell_type": "code",
   "execution_count": 16,
   "id": "056eacb2",
   "metadata": {},
   "outputs": [],
   "source": [
    "curves_C1_C5 = list(filter(lambda curve : explicit_torsion([], [5],curve), torsion_growth_with_local_data))"
   ]
  },
  {
   "cell_type": "code",
   "execution_count": 17,
   "id": "9bcc3561",
   "metadata": {},
   "outputs": [
    {
     "data": {
      "text/plain": [
       "{'lmfdb_label': '140581.a2',\n",
       " 'coefficients': [0, 1, 1, -54406, -4892226],\n",
       " 'degree': 2,\n",
       " 'field': [2, -1, 1],\n",
       " 'conductor': 140581,\n",
       " 'torsion_before': [],\n",
       " 'torsion_after': [5],\n",
       " 'curve_discriminant': 43987896258901,\n",
       " 'disc_abs': -7,\n",
       " 'prime_red_kodaira': [(19, -1, 9), (7, 0, -1), (151, 1, 5)]}"
      ]
     },
     "execution_count": 17,
     "metadata": {},
     "output_type": "execute_result"
    }
   ],
   "source": [
    "curves_C1_C5[567]"
   ]
  },
  {
   "cell_type": "code",
   "execution_count": 18,
   "id": "0f1a8608",
   "metadata": {},
   "outputs": [
    {
     "data": {
      "text/plain": [
       "4676"
      ]
     },
     "execution_count": 18,
     "metadata": {},
     "output_type": "execute_result"
    }
   ],
   "source": [
    "len(curves_C1_C5)"
   ]
  },
  {
   "cell_type": "markdown",
   "id": "fad0e9f8",
   "metadata": {},
   "source": [
    "  # First Conjecture: \n",
    "\n",
    "If a prime $ p $ divides $ D $, the discriminant of $ \\mathbb{Q}(\\sqrt{d}) $, then the curve has additive bad reduction at $ p $, \n",
    "\n",
    "where $ \\mathbb{Q}(\\sqrt{d}) $ is the field where the torsion grows.\n",
    "\n"
   ]
  },
  {
   "cell_type": "code",
   "execution_count": 19,
   "id": "bf0c29ef",
   "metadata": {},
   "outputs": [
    {
     "data": {
      "text/plain": [
       "0"
      ]
     },
     "execution_count": 19,
     "metadata": {},
     "output_type": "execute_result"
    }
   ],
   "source": [
    "def direct_conjecture_C1_C5(curve):\n",
    "    primes_discriminant = [p for p,e in list(curve['disc_abs'].factor())]\n",
    "    bad_reduction_primes = dict()\n",
    "    for p, red, kodaira in curve['prime_red_kodaira']:\n",
    "        bad_reduction_primes[p] = red\n",
    "    for p in primes_discriminant:\n",
    "        if p not in bad_reduction_primes.keys():\n",
    "            bad_reduction_primes[p] = \"good reduction\"\n",
    "        \n",
    "    return all([(bad_reduction_primes[p] == 0) for p in primes_discriminant])\n",
    "\n",
    "\n",
    "len([curve for curve in curves_C1_C5 if not direct_conjecture_C1_C5(curve)])"
   ]
  },
  {
   "cell_type": "markdown",
   "id": "def68618",
   "metadata": {},
   "source": [
    "# Second Conjecture: \n",
    "\n",
    "If the curve has additive reduction at $ p \\neq 5 $, then $ p $ divides $ D $, the discriminant of $ \\mathbb{Q}(\\sqrt{d}) $. \n",
    "\n",
    "If the curve has additive reduction at 5, then $ 5 \\mid d $ if, and only if, the Kodaira symbol at 5 is neither II nor III. \n",
    "\n",
    "where $ \\mathbb{Q}(\\sqrt{d}) $ is the field where the torsion grows.\n",
    "\n"
   ]
  },
  {
   "cell_type": "code",
   "execution_count": 20,
   "id": "76b48251",
   "metadata": {},
   "outputs": [],
   "source": [
    "def reciprocal_conjecture_C1_C5(curve):\n",
    "    primes_with_additive_reduction = [(p, kodaira) for p,red,kodaira in curve['prime_red_kodaira'] if red == 0 ]\n",
    "    conjecture_without_5 = all([(curve['disc_abs']%prime ==0) for (prime, kodaira) in primes_with_additive_reduction if prime !=5])\n",
    "    conjecture_for_5_reciprocal = all([curve['disc_abs']%prime ==0 for prime,kodaira in primes_with_additive_reduction if not (kodaira in [2,3]) and prime== 5])\n",
    "    conjecture_for_5_direct = all([curve['disc_abs']%prime !=0 for prime,kodaira in primes_with_additive_reduction if (kodaira in [2,3]) and prime== 5])\n",
    "    return all([conjecture_without_5,conjecture_for_5_direct, conjecture_for_5_reciprocal])\n",
    "\n"
   ]
  },
  {
   "cell_type": "code",
   "execution_count": 21,
   "id": "b87aff60",
   "metadata": {},
   "outputs": [
    {
     "data": {
      "text/plain": [
       "0"
      ]
     },
     "execution_count": 21,
     "metadata": {},
     "output_type": "execute_result"
    }
   ],
   "source": [
    "counterexamples = [curve for curve in curves_C1_C5 if not reciprocal_conjecture_C1_C5(curve)]\n",
    "len(counterexamples)"
   ]
  },
  {
   "cell_type": "code",
   "execution_count": 22,
   "id": "42eca2d0",
   "metadata": {},
   "outputs": [
    {
     "data": {
      "text/plain": [
       "{'lmfdb_label': '101075.g1',\n",
       " 'coefficients': [0, 1, 1, -29758, 1967019],\n",
       " 'degree': 2,\n",
       " 'field': [-1, -1, 1],\n",
       " 'conductor': 101075,\n",
       " 'torsion_before': [],\n",
       " 'torsion_after': [5],\n",
       " 'curve_discriminant': 1804251921875,\n",
       " 'disc_abs': 5,\n",
       " 'prime_red_kodaira': [(5, 0, -1), (311, 1, 5), (13, -1, 9)]}"
      ]
     },
     "execution_count": 22,
     "metadata": {},
     "output_type": "execute_result"
    }
   ],
   "source": [
    "[curve for curve in curves_C1_C5 if curve['disc_abs'] == 5][4]"
   ]
  },
  {
   "cell_type": "code",
   "execution_count": null,
   "id": "0651d98f",
   "metadata": {},
   "outputs": [],
   "source": []
  },
  {
   "cell_type": "code",
   "execution_count": null,
   "id": "f20b3981",
   "metadata": {},
   "outputs": [],
   "source": []
  },
  {
   "cell_type": "markdown",
   "id": "c35b9feb",
   "metadata": {},
   "source": [
    "### $\\mathcal{C}_1\\longrightarrow \\mathcal{C}_7$"
   ]
  },
  {
   "cell_type": "code",
   "execution_count": 23,
   "id": "35a68e5c",
   "metadata": {},
   "outputs": [],
   "source": [
    "curves_C1_C7 = list(filter(lambda curve : explicit_torsion([], [7],curve), torsion_growth_with_local_data))"
   ]
  },
  {
   "cell_type": "code",
   "execution_count": 24,
   "id": "1f409e39",
   "metadata": {},
   "outputs": [
    {
     "data": {
      "text/plain": [
       "606"
      ]
     },
     "execution_count": 24,
     "metadata": {},
     "output_type": "execute_result"
    }
   ],
   "source": [
    "len(curves_C1_C7)"
   ]
  },
  {
   "cell_type": "markdown",
   "id": "9a821b29",
   "metadata": {},
   "source": [
    "# First Conjecture: \n",
    "\n",
    "If a prime $ p $ divides $ D $, the discriminant of $ \\mathbb{Q}(\\sqrt{d}) $, then the curve has additive bad reduction at $ p $, \n",
    "\n",
    "where $ \\mathbb{Q}(\\sqrt{d}) $ is the field where the torsion grows.\n"
   ]
  },
  {
   "cell_type": "code",
   "execution_count": 25,
   "id": "34f5966f",
   "metadata": {},
   "outputs": [
    {
     "data": {
      "text/plain": [
       "0"
      ]
     },
     "execution_count": 25,
     "metadata": {},
     "output_type": "execute_result"
    }
   ],
   "source": [
    "def direct_conjecture_C1_C7(curve):\n",
    "    primes_discriminant = [p for p,e in list(curve['disc_abs'].factor())]\n",
    "    bad_reduction_primes = dict()\n",
    "    for p, red, kodaira in curve['prime_red_kodaira']:\n",
    "        bad_reduction_primes[p] = red\n",
    "    for p in primes_discriminant:\n",
    "        if p not in bad_reduction_primes.keys():\n",
    "            bad_reduction_primes[p] = \"good reduction\"\n",
    "        \n",
    "    return all([(bad_reduction_primes[p] == 0) for p in primes_discriminant])\n",
    "\n",
    "\n",
    "\n",
    "len([curve for curve in curves_C1_C7 if not direct_conjecture_C1_C7(curve)])"
   ]
  },
  {
   "cell_type": "markdown",
   "id": "5d395c5f",
   "metadata": {},
   "source": [
    "# Second Conjecture: \n",
    "\n",
    "If the curve has additive reduction at $ p \\neq 7 $, then $ p $ divides $ D $, the discriminant of $ \\mathbb{Q}(\\sqrt{d}) $. \n",
    "\n",
    "If the curve has additive reduction at 7, then $ 7 \\mid d $ if, and only if, the Kodaira symbol at 7 is not II. \n",
    "\n",
    "where $ \\mathbb{Q}(\\sqrt{d}) $ is the field where the torsion grows.\n"
   ]
  },
  {
   "cell_type": "code",
   "execution_count": 26,
   "id": "ab7239e7",
   "metadata": {},
   "outputs": [],
   "source": [
    "def reciprocal_conjecture_C1_C7(curve):\n",
    "    \n",
    "    primes_with_additive_reduction = [(p, kodaira) for p,red,kodaira in curve['prime_red_kodaira'] if red == 0 ]\n",
    "    conjecture_without_7 = all([(curve['disc_abs']%prime ==0) for (prime, kodaira) in primes_with_additive_reduction if prime !=7])\n",
    "    conjecture_for_7_reciprocal = all([curve['disc_abs']%prime ==0 for prime,kodaira in primes_with_additive_reduction if not (kodaira in [2]) and prime== 7])\n",
    "    conjecture_for_7_direct = all([curve['disc_abs']%prime !=0 for prime,kodaira in primes_with_additive_reduction if (kodaira in [2]) and prime== 7])\n",
    "    \n",
    "    \n",
    "    return all([conjecture_without_7,conjecture_for_7_direct, conjecture_for_7_reciprocal])\n"
   ]
  },
  {
   "cell_type": "code",
   "execution_count": 27,
   "id": "1ed393b2",
   "metadata": {},
   "outputs": [
    {
     "data": {
      "text/plain": [
       "0"
      ]
     },
     "execution_count": 27,
     "metadata": {},
     "output_type": "execute_result"
    }
   ],
   "source": [
    "counterexamples = [curve for curve in curves_C1_C7 if not reciprocal_conjecture_C1_C7(curve)]\n",
    "len(counterexamples)"
   ]
  },
  {
   "cell_type": "markdown",
   "id": "cd722eee",
   "metadata": {},
   "source": [
    "### $\\mathcal{C}_1\\longrightarrow \\mathcal{C}_9$"
   ]
  },
  {
   "cell_type": "code",
   "execution_count": 28,
   "id": "4c41ebb4",
   "metadata": {},
   "outputs": [],
   "source": [
    "curves_C1_C9 = list(filter(lambda curve : explicit_torsion([], [9],curve), torsion_growth_with_local_data))"
   ]
  },
  {
   "cell_type": "code",
   "execution_count": 29,
   "id": "b44868b6",
   "metadata": {},
   "outputs": [
    {
     "data": {
      "text/plain": [
       "225"
      ]
     },
     "execution_count": 29,
     "metadata": {},
     "output_type": "execute_result"
    }
   ],
   "source": [
    "len(curves_C1_C9)"
   ]
  },
  {
   "cell_type": "markdown",
   "id": "af4b9d11",
   "metadata": {},
   "source": [
    "# First Conjecture: \n",
    "\n",
    "If a prime $ p $ divides $ D $, the discriminant of $ \\mathbb{Q}(\\sqrt{d}) $, then the curve has additive bad reduction at $ p $, \n",
    "\n",
    "where $ \\mathbb{Q}(\\sqrt{d}) $ is the field where the torsion grows.\n",
    " "
   ]
  },
  {
   "cell_type": "code",
   "execution_count": 30,
   "id": "c42ac74f",
   "metadata": {},
   "outputs": [
    {
     "data": {
      "text/plain": [
       "0"
      ]
     },
     "execution_count": 30,
     "metadata": {},
     "output_type": "execute_result"
    }
   ],
   "source": [
    "def direct_conjecture_C1_C9(curve):\n",
    "    primes_discriminant = [p for p,e in list(curve['disc_abs'].factor())]\n",
    "    bad_reduction_primes = dict()\n",
    "    for p, red, kodaira in curve['prime_red_kodaira']:\n",
    "        bad_reduction_primes[p] = red\n",
    "    for p in primes_discriminant:\n",
    "        if p not in bad_reduction_primes.keys():\n",
    "            bad_reduction_primes[p] = \"good reduction\"\n",
    "        \n",
    "    return all([(bad_reduction_primes[p] == 0) for p in primes_discriminant])\n",
    "\n",
    "\n",
    "\n",
    "len([curve for curve in curves_C1_C9 if not direct_conjecture_C1_C9(curve)])"
   ]
  },
  {
   "cell_type": "markdown",
   "id": "93b3b7fb",
   "metadata": {},
   "source": [
    "# Second Conjecture: \n",
    "\n",
    "If the curve has additive reduction at \\( p \\neq 3 \\), then $ p \\mid D $, the discriminant of $ \\mathbb{Q}(\\sqrt{d}) $.\n",
    "\n",
    "If the curve has additive reduction at 3, then $ 3 \\mid d $ if, and only if, the Kodaira symbol at 3 is not IV.\n",
    "\n",
    "where $ \\mathbb{Q}(\\sqrt{d}) $ is the field where the torsion grows.\n"
   ]
  },
  {
   "cell_type": "code",
   "execution_count": 31,
   "id": "f80f79a5",
   "metadata": {},
   "outputs": [],
   "source": [
    "def reciprocal_conjecture_C1_C9(curve):\n",
    "    \n",
    "    primes_with_additive_reduction = [(p, kodaira) for p,red,kodaira in curve['prime_red_kodaira'] if red == 0 ]\n",
    "    conjecture_without_9 = all([(curve['disc_abs']%prime ==0) for (prime, kodaira) in primes_with_additive_reduction if prime !=3])\n",
    "    conjecture_for_9_reciprocal = all([curve['disc_abs']%prime ==0 for prime,kodaira in primes_with_additive_reduction if not (kodaira in [4]) and prime== 3])\n",
    "    conjecture_for_9_direct = all([curve['disc_abs']%prime !=0 for prime,kodaira in primes_with_additive_reduction if (kodaira in [4]) and prime== 3])\n",
    "    \n",
    "    \n",
    "    return all([conjecture_without_9,conjecture_for_9_direct, conjecture_for_9_reciprocal])\n"
   ]
  },
  {
   "cell_type": "code",
   "execution_count": 32,
   "id": "b5ef84f1",
   "metadata": {},
   "outputs": [
    {
     "data": {
      "text/plain": [
       "0"
      ]
     },
     "execution_count": 32,
     "metadata": {},
     "output_type": "execute_result"
    }
   ],
   "source": [
    "counterexamples = [curve for curve in curves_C1_C9 if not reciprocal_conjecture_C1_C9(curve)]\n",
    "len(counterexamples)"
   ]
  },
  {
   "cell_type": "code",
   "execution_count": 33,
   "id": "24c05353",
   "metadata": {},
   "outputs": [
    {
     "data": {
      "text/plain": [
       "58"
      ]
     },
     "execution_count": 33,
     "metadata": {},
     "output_type": "execute_result"
    }
   ],
   "source": [
    "counterexamples = []\n",
    "for curve in curves_C1_C9:\n",
    "    for p,r,k in curve['prime_red_kodaira']:\n",
    "        if p == 3 and r!=0:\n",
    "            counterexamples.append(curve)\n",
    "\n",
    "len(counterexamples)\n",
    "    "
   ]
  },
  {
   "cell_type": "code",
   "execution_count": 34,
   "id": "c0467026",
   "metadata": {},
   "outputs": [
    {
     "data": {
      "text/plain": [
       "{'lmfdb_label': '10878.bg2',\n",
       " 'coefficients': [1, 1, 1, -233584, -43948591],\n",
       " 'degree': 2,\n",
       " 'field': [2, -1, 1],\n",
       " 'conductor': 10878,\n",
       " 'torsion_before': [],\n",
       " 'torsion_after': [9],\n",
       " 'curve_discriminant': 15046841202430464,\n",
       " 'disc_abs': -7,\n",
       " 'prime_red_kodaira': [(3, -1, 13), (37, 1, 5), (7, 0, -7), (2, 1, 13)]}"
      ]
     },
     "execution_count": 34,
     "metadata": {},
     "output_type": "execute_result"
    }
   ],
   "source": [
    "counterexamples[0]"
   ]
  },
  {
   "cell_type": "code",
   "execution_count": null,
   "id": "75c2dcc1",
   "metadata": {},
   "outputs": [],
   "source": []
  },
  {
   "cell_type": "markdown",
   "id": "86365c14",
   "metadata": {},
   "source": [
    "### $\\mathcal{C}_2\\longrightarrow \\mathcal{C}_4$"
   ]
  },
  {
   "cell_type": "code",
   "execution_count": 35,
   "id": "c03856d4",
   "metadata": {},
   "outputs": [],
   "source": [
    "curves_C2_C4 = list(filter(lambda curve : explicit_torsion([2], [4],curve), torsion_growth_with_local_data))"
   ]
  },
  {
   "cell_type": "code",
   "execution_count": 36,
   "id": "c4aa0398",
   "metadata": {},
   "outputs": [
    {
     "data": {
      "text/plain": [
       "425724"
      ]
     },
     "execution_count": 36,
     "metadata": {},
     "output_type": "execute_result"
    }
   ],
   "source": [
    "len(curves_C2_C4)"
   ]
  },
  {
   "cell_type": "code",
   "execution_count": 37,
   "id": "94885d95",
   "metadata": {},
   "outputs": [],
   "source": [
    "def reciprocal_conjecture_C2_C4(curve):\n",
    "    label = curve['lmfdb_label']\n",
    "    curves_with_fixed_label = list(filter(lambda curve : explicit_torsion([2], [4],curve), torsion_growth_with_local_data_grouped_by_label[label]))\n",
    "    discriminants = [ec['disc_abs'] for ec in curves_with_fixed_label]\n",
    "    prop = True\n",
    "    for p, red, kodaira in curve['prime_red_kodaira']:\n",
    "        if (red == 0) and (p!=2):\n",
    "            prop = prop and any([discriminant%p == 0 for discriminant in discriminants])        \n",
    "    return prop"
   ]
  },
  {
   "cell_type": "code",
   "execution_count": 38,
   "id": "493be5ee",
   "metadata": {},
   "outputs": [
    {
     "data": {
      "text/plain": [
       "619"
      ]
     },
     "execution_count": 38,
     "metadata": {},
     "output_type": "execute_result"
    }
   ],
   "source": [
    "counterexamples = [curve for curve in curves_C2_C4 if not reciprocal_conjecture_C2_C4(curve)]\n",
    "len(counterexamples)"
   ]
  },
  {
   "cell_type": "code",
   "execution_count": 39,
   "id": "2416a2b7",
   "metadata": {},
   "outputs": [
    {
     "data": {
      "text/plain": [
       "{'lmfdb_label': '100800.ea8',\n",
       " 'coefficients': [0, 0, 0, 27683700, -35589962000],\n",
       " 'degree': 2,\n",
       " 'field': [-6, 0, 1],\n",
       " 'conductor': 100800,\n",
       " 'torsion_before': [2],\n",
       " 'torsion_after': [4],\n",
       " 'curve_discriminant': 1905042624694272000000000,\n",
       " 'disc_abs': 24,\n",
       " 'prime_red_kodaira': [(2, 0, -14), (5, 0, -7), (7, -1, 8), (3, 0, -16)]}"
      ]
     },
     "execution_count": 39,
     "metadata": {},
     "output_type": "execute_result"
    }
   ],
   "source": [
    "curve = counterexamples[0]\n",
    "curve"
   ]
  },
  {
   "cell_type": "markdown",
   "id": "3cad0bdb",
   "metadata": {},
   "source": [
    "### $\\mathcal{C}_4\\longrightarrow \\mathcal{C}_8$"
   ]
  },
  {
   "cell_type": "code",
   "execution_count": 40,
   "id": "88cbd7b5",
   "metadata": {},
   "outputs": [],
   "source": [
    "def reciprocal_conjecture_C4_C8(curve):\n",
    "    label = curve['lmfdb_label']\n",
    "    curves_with_fixed_label = list(filter(lambda curve : explicit_torsion([4], [8],curve), torsion_growth_with_local_data_grouped_by_label[label]))\n",
    "    discriminants = [ec['disc_abs'] for ec in curves_with_fixed_label]\n",
    "    prop = True\n",
    "    for p, red, kodaira in curve['prime_red_kodaira']:\n",
    "        if (red == 0) and (p!=2):\n",
    "            prop = prop and any([discriminant%p == 0 for discriminant in discriminants])        \n",
    "    return prop"
   ]
  },
  {
   "cell_type": "code",
   "execution_count": 41,
   "id": "47754e39",
   "metadata": {},
   "outputs": [
    {
     "data": {
      "text/plain": [
       "0"
      ]
     },
     "execution_count": 41,
     "metadata": {},
     "output_type": "execute_result"
    }
   ],
   "source": [
    "curves_C4_C8 = list(filter(lambda curve : explicit_torsion([4], [8],curve), torsion_growth_with_local_data))\n",
    "counterexamples = [curve for curve in curves_C4_C8 if not reciprocal_conjecture_C4_C8(curve)]\n",
    "len(counterexamples)"
   ]
  },
  {
   "cell_type": "markdown",
   "id": "51ffd149",
   "metadata": {},
   "source": [
    "### $\\mathcal{C}_8\\longrightarrow \\mathcal{C}_{16}$"
   ]
  },
  {
   "cell_type": "code",
   "execution_count": 42,
   "id": "4ea942c4",
   "metadata": {},
   "outputs": [],
   "source": [
    "def reductionType(type_red, curve):\n",
    "    answer = False\n",
    "    for a,b,c in curve['prime_red_kodaira']:\n",
    "        answer = ((b == type_red) and (a != 2)) or answer\n",
    "    return answer\n",
    "    "
   ]
  },
  {
   "cell_type": "code",
   "execution_count": 43,
   "id": "47dc954c",
   "metadata": {},
   "outputs": [
    {
     "data": {
      "text/plain": [
       "{'lmfdb_label': '100050.k2',\n",
       " 'coefficients': [1, 1, 0, 1067425, -3165802875],\n",
       " 'degree': 2,\n",
       " 'field': [-1, -1, 1],\n",
       " 'conductor': 100050,\n",
       " 'torsion_before': [],\n",
       " 'torsion_after': [5],\n",
       " 'curve_discriminant': 4408691566561200000000,\n",
       " 'disc_abs': 5,\n",
       " 'prime_red_kodaira': [(3, -1, 14),\n",
       "  (29, -1, 5),\n",
       "  (23, -1, 9),\n",
       "  (5, 0, -4),\n",
       "  (2, -1, 14)]}"
      ]
     },
     "execution_count": 43,
     "metadata": {},
     "output_type": "execute_result"
    }
   ],
   "source": [
    "curves_C8_C16 = list(filter(lambda curve : explicit_torsion([8], [16],curve), torsion_growth_with_local_data))\n",
    "counterexamples = [curve for curve in curves_C1_C5 if reductionType(0,curve)]\n",
    "len(counterexamples)\n",
    "counterexamples[0]"
   ]
  },
  {
   "cell_type": "markdown",
   "id": "0bb30779",
   "metadata": {},
   "source": [
    "### $\\mathcal{C}_8\\longrightarrow \\mathcal{C}_2\\times\\mathcal{C}_{8}$"
   ]
  },
  {
   "cell_type": "markdown",
   "id": "368b164c",
   "metadata": {},
   "source": [
    "# Torsion after has a new point of order $4$"
   ]
  },
  {
   "cell_type": "code",
   "execution_count": 44,
   "id": "a058858c",
   "metadata": {},
   "outputs": [],
   "source": [
    "curves_add_4_torsion = list(filter(lambda curve : add_N_torsion_point(4,curve), torsion_growth_with_local_data))"
   ]
  },
  {
   "cell_type": "markdown",
   "id": "62bd0704",
   "metadata": {},
   "source": [
    "##  Conjecture: \n",
    "\n",
    "Suppose the curve adds a point of 4-torsion over a quadratic field \\( K \\), i.e., there is strict growth in $E(\\mathbb{Q})[4] \\leq E(K)[4] $. Then, if \\( p \\) is a prime of additive reduction different from 2, \\( p \\) ramifies in a quadratic field \\( L \\) (possibly different from \\( K \\)) such that there is also strict growth in $ E(\\mathbb{Q})[4] \\leq E(K)[4] $.\n",
    "\n",
    "\n"
   ]
  },
  {
   "cell_type": "code",
   "execution_count": 45,
   "id": "a1618633",
   "metadata": {},
   "outputs": [],
   "source": [
    "def reciprocal_conjecture_add_4_torsion(curve):\n",
    "    label = curve['lmfdb_label']\n",
    "    curves_with_fixed_label = list(filter(lambda curve : add_N_torsion_point(4,curve), torsion_growth_with_local_data_grouped_by_label[label]))\n",
    "    discriminants = [ec['disc_abs'] for ec in curves_with_fixed_label]\n",
    "    prop = True\n",
    "    for p, red, kodaira in curve['prime_red_kodaira']:\n",
    "        if (red == 0) and (p!=2):\n",
    "            prop = prop and any([discriminant%p == 0 for discriminant in discriminants])        \n",
    "    return prop"
   ]
  },
  {
   "cell_type": "code",
   "execution_count": 46,
   "id": "5ebaf83f",
   "metadata": {},
   "outputs": [
    {
     "data": {
      "text/plain": [
       "0"
      ]
     },
     "execution_count": 46,
     "metadata": {},
     "output_type": "execute_result"
    }
   ],
   "source": [
    "counterexamples = [curve for curve in curves_add_4_torsion if not reciprocal_conjecture_add_4_torsion(curve)]\n",
    "len(counterexamples)"
   ]
  },
  {
   "cell_type": "markdown",
   "id": "88a78163",
   "metadata": {},
   "source": [
    "# Torsion after has a new point of order $8$"
   ]
  },
  {
   "cell_type": "code",
   "execution_count": 47,
   "id": "455dac43",
   "metadata": {},
   "outputs": [],
   "source": [
    "curves_add_8_torsion = list(filter(lambda curve : add_N_torsion_point(8,curve), torsion_growth_with_local_data))"
   ]
  },
  {
   "cell_type": "code",
   "execution_count": 48,
   "id": "ff388a9d",
   "metadata": {},
   "outputs": [
    {
     "data": {
      "text/plain": [
       "8573"
      ]
     },
     "execution_count": 48,
     "metadata": {},
     "output_type": "execute_result"
    }
   ],
   "source": [
    "len(curves_add_8_torsion)"
   ]
  },
  {
   "cell_type": "code",
   "execution_count": 49,
   "id": "bf0a91cf",
   "metadata": {},
   "outputs": [],
   "source": [
    "def reciprocal_conjecture_add_8_torsion(curve):\n",
    "    label = curve['lmfdb_label']\n",
    "    curves_with_fixed_label = list(filter(lambda curve : add_N_torsion_point(8,curve), torsion_growth_with_local_data_grouped_by_label[label]))\n",
    "    discriminants = [ec['disc_abs'] for ec in curves_with_fixed_label]\n",
    "    prop = True\n",
    "    for p, red, kodaira in curve['prime_red_kodaira']:\n",
    "        if (red == 0) and (p!=2):\n",
    "            prop = prop and any([discriminant%p == 0 for discriminant in discriminants])        \n",
    "    return prop"
   ]
  },
  {
   "cell_type": "code",
   "execution_count": 50,
   "id": "31392fd2",
   "metadata": {},
   "outputs": [
    {
     "data": {
      "text/plain": [
       "0"
      ]
     },
     "execution_count": 50,
     "metadata": {},
     "output_type": "execute_result"
    }
   ],
   "source": [
    "counterexamples = [curve for curve in curves_add_8_torsion if not reciprocal_conjecture_add_8_torsion(curve)]\n",
    "len(counterexamples)"
   ]
  },
  {
   "cell_type": "markdown",
   "id": "a14945e2",
   "metadata": {},
   "source": [
    "# Torsion after has a new point of order $16$"
   ]
  },
  {
   "cell_type": "code",
   "execution_count": 51,
   "id": "19d2d498",
   "metadata": {},
   "outputs": [],
   "source": [
    "curves_add_16_torsion = list(filter(lambda curve : add_N_torsion_point(16,curve), torsion_growth_with_local_data))"
   ]
  },
  {
   "cell_type": "code",
   "execution_count": 52,
   "id": "bb4fc948",
   "metadata": {},
   "outputs": [
    {
     "data": {
      "text/plain": [
       "28"
      ]
     },
     "execution_count": 52,
     "metadata": {},
     "output_type": "execute_result"
    }
   ],
   "source": [
    "len(curves_add_16_torsion)"
   ]
  },
  {
   "cell_type": "code",
   "execution_count": 53,
   "id": "f0923d22",
   "metadata": {},
   "outputs": [],
   "source": [
    "def reciprocal_conjecture_add_16_torsion(curve):\n",
    "    label = curve['lmfdb_label']\n",
    "    curves_with_fixed_label = list(filter(lambda curve : add_N_torsion_point(16,curve), torsion_growth_with_local_data_grouped_by_label[label]))\n",
    "    discriminants = [ec['disc_abs'] for ec in curves_with_fixed_label]\n",
    "    prop = True\n",
    "    for p, red, kodaira in curve['prime_red_kodaira']:\n",
    "        if (red == 0) and (p!=2):\n",
    "            prop = prop and any([discriminant%p == 0 for discriminant in discriminants])        \n",
    "    return prop"
   ]
  },
  {
   "cell_type": "code",
   "execution_count": 54,
   "id": "f6409759",
   "metadata": {},
   "outputs": [
    {
     "data": {
      "text/plain": [
       "0"
      ]
     },
     "execution_count": 54,
     "metadata": {},
     "output_type": "execute_result"
    }
   ],
   "source": [
    "counterexamples = [curve for curve in curves_add_16_torsion if not reciprocal_conjecture_add_16_torsion(curve)]\n",
    "len(counterexamples)"
   ]
  },
  {
   "cell_type": "code",
   "execution_count": null,
   "id": "621f351a",
   "metadata": {},
   "outputs": [],
   "source": []
  },
  {
   "cell_type": "code",
   "execution_count": null,
   "id": "09fb8a0b",
   "metadata": {},
   "outputs": [],
   "source": []
  },
  {
   "cell_type": "code",
   "execution_count": null,
   "id": "da8e377b",
   "metadata": {},
   "outputs": [],
   "source": []
  }
 ],
 "metadata": {
  "kernelspec": {
   "display_name": "SageMath 10.2",
   "language": "sage",
   "name": "sagemath"
  },
  "language_info": {
   "codemirror_mode": {
    "name": "ipython",
    "version": 3
   },
   "file_extension": ".py",
   "mimetype": "text/x-python",
   "name": "python",
   "nbconvert_exporter": "python",
   "pygments_lexer": "ipython3",
   "version": "3.11.9"
  }
 },
 "nbformat": 4,
 "nbformat_minor": 5
}
