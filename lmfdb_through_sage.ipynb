{
 "cells": [
  {
   "cell_type": "code",
   "execution_count": 1,
   "id": "28e2e6f1",
   "metadata": {},
   "outputs": [
    {
     "name": "stderr",
     "output_type": "stream",
     "text": [
      "INFO:LMFDB@2024-05-11 16:22:15,759: Configuration = {'flask_options': {'port': 37777, 'host': '127.0.0.1', 'debug': True, 'use_reloader': False}, 'postgresql_options': {'port': 5432, 'host': 'devmirror.lmfdb.xyz', 'dbname': 'lmfdb', 'user': 'lmfdb', 'password': '****'}, 'logging_options': {'logfile': 'flasklog', 'slowcutoff': 0.1, 'slowlogfile': 'slow_queries.log', 'editor': '', 'loglevel': 20}} \n",
      "INFO:LMFDB@2024-05-11 16:22:15,888: Connecting to PostgresSQL server as: user=lmfdb host=devmirror.lmfdb.xyz port=5432 dbname=lmfdb... \n",
      "INFO:LMFDB@2024-05-11 16:22:16,950: Done!\n",
      " connection = <connection object at 0x73e18f14e200; dsn: 'user=lmfdb password=xxx dbname=lmfdb host=devmirror.lmfdb.xyz port=5432', closed: 0> \n",
      "2024-05-11 16:22:17,869 - SELECT pg_is_in_recovery() ran in \u001b[91m 0.12526774406433105s \u001b[0m\n",
      "2024-05-11 16:22:18,358 - SELECT current_setting('is_superuser') ran in \u001b[91m 0.3618767261505127s \u001b[0m\n",
      "INFO:LMFDB@2024-05-11 16:22:18,560: User: lmfdb \n",
      "INFO:LMFDB@2024-05-11 16:22:18,561: Read only: True \n",
      "INFO:LMFDB@2024-05-11 16:22:18,562: Super user: False \n",
      "INFO:LMFDB@2024-05-11 16:22:18,564: Read/write to userdb: False \n",
      "INFO:LMFDB@2024-05-11 16:22:18,565: Read/write to knowls: False \n",
      "2024-05-11 16:22:19,999 - SELECT table_name, column_name, udt_name::regtype FROM information_schema.columns ORDER BY table_name, ordinal_position ran in \u001b[91m 1.4330599308013916s \u001b[0m\n",
      "2024-05-11 16:22:20,611 - SELECT name, label_col, sort, count_cutoff, id_ordered, out_of_order, has_extras, stats_valid, total, include_nones FROM meta_tables ran in \u001b[91m 0.3705008029937744s \u001b[0m\n"
     ]
    }
   ],
   "source": [
    "from lmfdb import db\n",
    "from lmfdb_tools import ec_growth_torsion"
   ]
  },
  {
   "cell_type": "code",
   "execution_count": 2,
   "id": "4dafe9b0",
   "metadata": {},
   "outputs": [
    {
     "name": "stderr",
     "output_type": "stream",
     "text": [
      "2024-05-11 16:22:21,167 - SELECT \"ec_torsion_growth\".\"lmfdb_label\", \"ec_torsion_growth\".\"torsion\", \"ec_torsion_growth\".\"degree\", \"ec_torsion_growth\".\"field\", \"ec_torsion_growth\".\"conductor\", \"ec_curvedata\".\"torsion_structure\" FROM \"ec_torsion_growth\" JOIN \"ec_curvedata\" ON \"ec_torsion_growth\".\"lmfdb_label\" = \"ec_curvedata\".\"lmfdb_label\" WHERE \"ec_torsion_growth\".\"degree\" = 2 ORDER BY \"ec_torsion_growth\".\"lmfdb_label\", \"ec_torsion_growth\".\"degree\" ran in \u001b[91m 0.33416223526000977s \u001b[0m\n",
      "2024-05-11 16:22:21,169 - Replicate with db.ec_torsion_growth.analyze({'degree': 2}, ['lmfdb_label', 'torsion', 'degree', 'field', 'conductor', ('ec_curvedata', 'torsion_structure')], None, 0)\n",
      "2024-05-11 16:25:15,010 - Search iterator for ec_torsion_growth {'degree': 2} required a total of \u001b[91m168.2619435787201s\u001b[0m\n"
     ]
    },
    {
     "data": {
      "text/plain": [
       "1661447"
      ]
     },
     "execution_count": 2,
     "metadata": {},
     "output_type": "execute_result"
    }
   ],
   "source": [
    "table = db.ec_torsion_growth.join_search(query={'degree' : int(2)}, \n",
    "                                        projection=[\"lmfdb_label\", \"torsion\", \"degree\", \"field\", \"conductor\", (\"ec_curvedata\", \"torsion_structure\")], \n",
    "                                        join=[(\"ec_torsion_growth\", \"lmfdb_label\", \"ec_curvedata\",\"lmfdb_label\")])\n",
    "\n",
    "ecs = list(table)\n",
    "len(ecs)"
   ]
  },
  {
   "cell_type": "code",
   "execution_count": 3,
   "id": "fa5233c5",
   "metadata": {},
   "outputs": [],
   "source": [
    "x = polygen(ZZ,'x')\n",
    "\n",
    "for ec in ecs:\n",
    "    ec['torsion_before'] = ec[('ec_curvedata','torsion_structure')]\n",
    "    ec['torsion_after'] = ec['torsion']\n",
    "    \n",
    "    del ec['torsion']\n",
    "    del ec[('ec_curvedata','torsion_structure')]\n",
    "    \n",
    "    \n",
    "    f = ec['field']\n",
    "    K.<alpha> = NumberField(f[0]*x^2+ f[1]*x + f[2]) \n",
    "    ec['disc_abs'] = K.absolute_discriminant()"
   ]
  },
  {
   "cell_type": "code",
   "execution_count": 5,
   "id": "90e1505b",
   "metadata": {},
   "outputs": [
    {
     "data": {
      "text/plain": [
       "{'lmfdb_label': '100.a1',\n",
       " 'degree': 2,\n",
       " 'field': [-1, -1, 1],\n",
       " 'conductor': 100,\n",
       " 'torsion_before': [2],\n",
       " 'torsion_after': [2, 2],\n",
       " 'disc_abs': 5}"
      ]
     },
     "execution_count": 5,
     "metadata": {},
     "output_type": "execute_result"
    }
   ],
   "source": [
    "ecs[0]"
   ]
  },
  {
   "cell_type": "code",
   "execution_count": 23,
   "id": "520fdb31",
   "metadata": {},
   "outputs": [],
   "source": [
    "def prod(xs):\n",
    "    prod = 1\n",
    "    for x in xs:\n",
    "        prod *= x\n",
    "    return prod\n",
    "\n",
    "def conditions(curve,  dict_key_property):\n",
    "    boolean = True\n",
    "    for key, propertyy in  dict_key_property.items():\n",
    "        boolean = boolean and propertyy(curve[key])\n",
    "    return boolean\n",
    "\n",
    "def growth_torsion_search(dict_possible_torsion_growth, curves_list):\n",
    "    return [ec for ec in curves_list if (tuple(ec['torsion_before']) in dict_possible_torsion_growth.keys()) \n",
    "            and (ec['torsion_after'] in dict_possible_torsion_growth[tuple(ec['torsion_before'])])]\n",
    "    \n",
    "    "
   ]
  },
  {
   "cell_type": "code",
   "execution_count": 24,
   "id": "7e4f4d23",
   "metadata": {},
   "outputs": [],
   "source": [
    "dict_conditions = {'conductor' : lambda cond : cond%3 != 0, \n",
    "                   'torsion_before' : lambda tor_list : prod(tor_list)% 3 != 0,\n",
    "                   'torsion_after' : lambda tor_list: prod(tor_list)%3 == 0,\n",
    "                   'disc_abs' : lambda disc: disc%3 == 0}\n",
    "\n",
    "ecs_trivial2C3 = [ec for ec in ecs if  conditions(ec, dict_conditions)]"
   ]
  },
  {
   "cell_type": "code",
   "execution_count": 25,
   "id": "85fd17ec",
   "metadata": {},
   "outputs": [
    {
     "data": {
      "text/plain": [
       "0"
      ]
     },
     "execution_count": 25,
     "metadata": {},
     "output_type": "execute_result"
    }
   ],
   "source": [
    "counterexamples = [ec for ec in ecs_trivial2C3 if prod(ec['torsion_after'])/prod(ec['torsion_before']) != 3]\n",
    "len(counterexamples)"
   ]
  },
  {
   "cell_type": "code",
   "execution_count": 26,
   "id": "a4d78346",
   "metadata": {},
   "outputs": [
    {
     "data": {
      "text/plain": [
       "35163"
      ]
     },
     "execution_count": 26,
     "metadata": {},
     "output_type": "execute_result"
    }
   ],
   "source": [
    "len(ecs_trivial2C3)"
   ]
  },
  {
   "cell_type": "code",
   "execution_count": 44,
   "id": "6175f31b",
   "metadata": {},
   "outputs": [],
   "source": [
    "dict_search= {() : [5], (2,): [[10],[2,10]],(3,) : [15]}\n",
    "\n",
    "ecs_5_growth = growth_torsion_search(dict_search, ecs)"
   ]
  },
  {
   "cell_type": "code",
   "execution_count": 45,
   "id": "7d8617e5",
   "metadata": {},
   "outputs": [
    {
     "data": {
      "text/plain": [
       "530"
      ]
     },
     "execution_count": 45,
     "metadata": {},
     "output_type": "execute_result"
    }
   ],
   "source": [
    "len(ecs_5_growth)"
   ]
  },
  {
   "cell_type": "code",
   "execution_count": 50,
   "id": "7118fbbd",
   "metadata": {},
   "outputs": [
    {
     "data": {
      "text/plain": [
       "{'lmfdb_label': '98154.bl3',\n",
       " 'degree': 2,\n",
       " 'field': [1, -1, 1],\n",
       " 'conductor': 98154,\n",
       " 'torsion_before': [2],\n",
       " 'torsion_after': [10],\n",
       " 'disc_abs': -3}"
      ]
     },
     "execution_count": 50,
     "metadata": {},
     "output_type": "execute_result"
    }
   ],
   "source": [
    "ecs_5_growth[-1]"
   ]
  },
  {
   "cell_type": "code",
   "execution_count": 51,
   "id": "84573b24",
   "metadata": {},
   "outputs": [
    {
     "data": {
      "text/plain": [
       "2 * 3^2 * 7 * 19 * 41"
      ]
     },
     "execution_count": 51,
     "metadata": {},
     "output_type": "execute_result"
    }
   ],
   "source": [
    "factor(98154)"
   ]
  },
  {
   "cell_type": "code",
   "execution_count": 49,
   "id": "3f1ceffa",
   "metadata": {},
   "outputs": [
    {
     "data": {
      "text/plain": [
       "2^3 * 7"
      ]
     },
     "execution_count": 49,
     "metadata": {},
     "output_type": "execute_result"
    }
   ],
   "source": [
    "factor(56)"
   ]
  },
  {
   "cell_type": "code",
   "execution_count": 6,
   "id": "9477236b",
   "metadata": {},
   "outputs": [
    {
     "name": "stderr",
     "output_type": "stream",
     "text": [
      "2024-05-10 17:20:08,808 - SELECT count FROM \"ec_nfcurves_counts\" WHERE cols = '[\"rank\"]' AND values = '[1]' AND split = false ran in \u001b[91m 1.1579384803771973s \u001b[0m\n",
      "2024-05-10 17:20:12,528 - SELECT \"ec_nfcurves\".\"label\", \"nf_fields\".\"r2\" FROM \"ec_nfcurves\" JOIN \"nf_fields\" ON \"ec_nfcurves\".\"field_label\" = \"nf_fields\".\"label\" WHERE \"ec_nfcurves\".\"rank\" = 1 ORDER BY \"ec_nfcurves\".\"field_label\", \"ec_nfcurves\".\"conductor_norm\", \"ec_nfcurves\".\"conductor_label\", \"ec_nfcurves\".\"iso_nlabel\", \"ec_nfcurves\".\"number\" LIMIT 1000 ran in \u001b[91m 3.5903468132019043s \u001b[0m\n",
      "2024-05-10 17:20:12,529 - Replicate with db.ec_nfcurves.analyze({'rank': 1}, ['label', ('nf_fields', 'r2')], 1000, 0)\n"
     ]
    },
    {
     "data": {
      "text/plain": [
       "[{'label': '2.0.11.1-47.1-a1', ('nf_fields', 'r2'): 1},\n",
       " {'label': '2.0.11.1-47.2-a1', ('nf_fields', 'r2'): 1},\n",
       " {'label': '2.0.11.1-108.1-a1', ('nf_fields', 'r2'): 1}]"
      ]
     },
     "execution_count": 6,
     "metadata": {},
     "output_type": "execute_result"
    }
   ],
   "source": [
    "db.ec_nfcurves.join_search({\"rank\":1}, [\"label\", (\"nf_fields\", \"r2\")], [(\"ec_nfcurves\", \"field_label\", \"nf_fields\", \"label\")], limit=3)\n"
   ]
  },
  {
   "cell_type": "code",
   "execution_count": null,
   "id": "80925c70",
   "metadata": {},
   "outputs": [],
   "source": []
  }
 ],
 "metadata": {
  "kernelspec": {
   "display_name": "SageMath 10.2",
   "language": "sage",
   "name": "sagemath"
  },
  "language_info": {
   "codemirror_mode": {
    "name": "ipython",
    "version": 3
   },
   "file_extension": ".py",
   "mimetype": "text/x-python",
   "name": "python",
   "nbconvert_exporter": "python",
   "pygments_lexer": "ipython3",
   "version": "3.11.9"
  }
 },
 "nbformat": 4,
 "nbformat_minor": 5
}
