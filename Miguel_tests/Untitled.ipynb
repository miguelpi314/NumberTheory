{
 "cells": [
  {
   "cell_type": "code",
   "execution_count": 1,
   "id": "f0f479cb",
   "metadata": {},
   "outputs": [
    {
     "name": "stderr",
     "output_type": "stream",
     "text": [
      "INFO:LMFDB@2024-05-10 13:20:59,687: Configuration = {'flask_options': {'port': 37777, 'host': '127.0.0.1', 'debug': True, 'use_reloader': False}, 'postgresql_options': {'port': 5432, 'host': 'devmirror.lmfdb.xyz', 'dbname': 'lmfdb', 'user': 'lmfdb', 'password': '****'}, 'logging_options': {'logfile': 'flasklog', 'slowcutoff': 0.1, 'slowlogfile': 'slow_queries.log', 'editor': '', 'loglevel': 20}} \n",
      "INFO:LMFDB@2024-05-10 13:20:59,815: Connecting to PostgresSQL server as: user=lmfdb host=devmirror.lmfdb.xyz port=5432 dbname=lmfdb... \n",
      "INFO:LMFDB@2024-05-10 13:21:00,597: Done!\n",
      " connection = <connection object at 0x73f939060b80; dsn: 'user=lmfdb password=xxx dbname=lmfdb host=devmirror.lmfdb.xyz port=5432', closed: 0> \n",
      "2024-05-10 13:21:01,203 - SELECT pg_is_in_recovery() ran in \u001b[91m 0.1176917552947998s \u001b[0m\n",
      "2024-05-10 13:21:01,559 - SELECT current_setting('is_superuser') ran in \u001b[91m 0.23605871200561523s \u001b[0m\n",
      "INFO:LMFDB@2024-05-10 13:21:01,679: User: lmfdb \n",
      "INFO:LMFDB@2024-05-10 13:21:01,680: Read only: True \n",
      "INFO:LMFDB@2024-05-10 13:21:01,681: Super user: False \n",
      "INFO:LMFDB@2024-05-10 13:21:01,682: Read/write to userdb: False \n",
      "INFO:LMFDB@2024-05-10 13:21:01,684: Read/write to knowls: False \n",
      "2024-05-10 13:21:02,491 - SELECT table_name, column_name, udt_name::regtype FROM information_schema.columns ORDER BY table_name, ordinal_position ran in \u001b[91m 0.8062419891357422s \u001b[0m\n",
      "2024-05-10 13:21:02,853 - SELECT name, label_col, sort, count_cutoff, id_ordered, out_of_order, has_extras, stats_valid, total, include_nones FROM meta_tables ran in \u001b[91m 0.23681879043579102s \u001b[0m\n"
     ]
    }
   ],
   "source": [
    "from lmfdb import db"
   ]
  },
  {
   "cell_type": "code",
   "execution_count": null,
   "id": "4e00019b",
   "metadata": {},
   "outputs": [],
   "source": []
  }
 ],
 "metadata": {
  "kernelspec": {
   "display_name": "Python 3 (ipykernel)",
   "language": "python",
   "name": "python3"
  },
  "language_info": {
   "codemirror_mode": {
    "name": "ipython",
    "version": 3
   },
   "file_extension": ".py",
   "mimetype": "text/x-python",
   "name": "python",
   "nbconvert_exporter": "python",
   "pygments_lexer": "ipython3",
   "version": "3.11.9"
  }
 },
 "nbformat": 4,
 "nbformat_minor": 5
}
