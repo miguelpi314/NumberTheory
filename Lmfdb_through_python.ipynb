{
 "cells": [
  {
   "cell_type": "code",
   "execution_count": 7,
   "id": "28e2e6f1",
   "metadata": {},
   "outputs": [],
   "source": [
    "from lmfdb import db"
   ]
  },
  {
   "cell_type": "code",
   "execution_count": 9,
   "id": "4dafe9b0",
   "metadata": {},
   "outputs": [
    {
     "name": "stderr",
     "output_type": "stream",
     "text": [
      "2024-05-10 18:00:31,625 - SELECT t.relname, l.mode, l.pid, age(clock_timestamp(), a.backend_start) FROM pg_locks l JOIN pg_stat_all_tables t ON l.relation = t.relid JOIN pg_stat_activity a ON l.pid = a.pid WHERE l.granted AND t.schemaname <> 'pg_toast'::name AND t.schemaname <> 'pg_catalog'::name ran in \u001b[91m 0.26885294914245605s \u001b[0m\n"
     ]
    },
    {
     "ename": "ReadOnlySqlTransaction",
     "evalue": "cannot execute ALTER TABLE in a read-only transaction\n",
     "output_type": "error",
     "traceback": [
      "\u001b[0;31m---------------------------------------------------------------------------\u001b[0m",
      "\u001b[0;31mReadOnlySqlTransaction\u001b[0m                    Traceback (most recent call last)",
      "Cell \u001b[0;32mIn[9], line 1\u001b[0m\n\u001b[0;32m----> 1\u001b[0m \u001b[43mdb\u001b[49m\u001b[38;5;241;43m.\u001b[39;49m\u001b[43mec_torsion_growth\u001b[49m\u001b[38;5;241;43m.\u001b[39;49m\u001b[43madd_column\u001b[49m\u001b[43m(\u001b[49m\u001b[43mname\u001b[49m\u001b[38;5;241;43m=\u001b[39;49m\u001b[38;5;124;43m\"\u001b[39;49m\u001b[38;5;124;43mextra_condition\u001b[39;49m\u001b[38;5;124;43m\"\u001b[39;49m\u001b[43m,\u001b[49m\u001b[43m \u001b[49m\u001b[43mdatatype\u001b[49m\u001b[38;5;241;43m=\u001b[39;49m\u001b[38;5;124;43m'\u001b[39;49m\u001b[38;5;124;43mboolean\u001b[39;49m\u001b[38;5;124;43m'\u001b[39;49m\u001b[43m,\u001b[49m\u001b[43m \u001b[49m\u001b[43mdescription\u001b[49m\u001b[38;5;241;43m=\u001b[39;49m\u001b[38;5;124;43m'\u001b[39;49m\u001b[38;5;124;43msomething\u001b[39;49m\u001b[38;5;124;43m'\u001b[39;49m\u001b[43m)\u001b[49m\n",
      "File \u001b[0;32m~/code/lmfdb/lmfdb/lmfdb_database.py:307\u001b[0m, in \u001b[0;36mLMFDBSearchTable.add_column\u001b[0;34m(self, *args, **kwds)\u001b[0m\n\u001b[1;32m    305\u001b[0m \u001b[38;5;28;01mif\u001b[39;00m \u001b[38;5;124m\"\u001b[39m\u001b[38;5;124mforce_description\u001b[39m\u001b[38;5;124m\"\u001b[39m \u001b[38;5;129;01mnot\u001b[39;00m \u001b[38;5;129;01min\u001b[39;00m kwds:\n\u001b[1;32m    306\u001b[0m     kwds[\u001b[38;5;124m\"\u001b[39m\u001b[38;5;124mforce_description\u001b[39m\u001b[38;5;124m\"\u001b[39m] \u001b[38;5;241m=\u001b[39m \u001b[38;5;28;01mTrue\u001b[39;00m\n\u001b[0;32m--> 307\u001b[0m \u001b[38;5;28;01mreturn\u001b[39;00m \u001b[38;5;28;43msuper\u001b[39;49m\u001b[43m(\u001b[49m\u001b[43m)\u001b[49m\u001b[38;5;241;43m.\u001b[39;49m\u001b[43madd_column\u001b[49m\u001b[43m(\u001b[49m\u001b[38;5;241;43m*\u001b[39;49m\u001b[43margs\u001b[49m\u001b[43m,\u001b[49m\u001b[43m \u001b[49m\u001b[38;5;241;43m*\u001b[39;49m\u001b[38;5;241;43m*\u001b[39;49m\u001b[43mkwds\u001b[49m\u001b[43m)\u001b[49m\n",
      "File \u001b[0;32m~/code/lmfdb/lmfdb/backend/table.py:2286\u001b[0m, in \u001b[0;36mPostgresTable.add_column\u001b[0;34m(self, name, datatype, description, extra, label, force_description)\u001b[0m\n\u001b[1;32m   2280\u001b[0m \u001b[38;5;28;01mwith\u001b[39;00m DelayCommit(\u001b[38;5;28mself\u001b[39m, silence\u001b[38;5;241m=\u001b[39m\u001b[38;5;28;01mTrue\u001b[39;00m):\n\u001b[1;32m   2281\u001b[0m     \u001b[38;5;66;03m# Since we have run the datatype through the whitelist,\u001b[39;00m\n\u001b[1;32m   2282\u001b[0m     \u001b[38;5;66;03m# the following string substitution is safe\u001b[39;00m\n\u001b[1;32m   2283\u001b[0m     modifier \u001b[38;5;241m=\u001b[39m SQL(\u001b[38;5;124m\"\u001b[39m\u001b[38;5;124mALTER TABLE \u001b[39m\u001b[38;5;132;01m{0}\u001b[39;00m\u001b[38;5;124m ADD COLUMN \u001b[39m\u001b[38;5;132;01m{1}\u001b[39;00m\u001b[38;5;124m \u001b[39m\u001b[38;5;132;01m%s\u001b[39;00m\u001b[38;5;124m\"\u001b[39m \u001b[38;5;241m%\u001b[39m datatype)\u001b[38;5;241m.\u001b[39mformat(\n\u001b[1;32m   2284\u001b[0m         Identifier(table), Identifier(name)\n\u001b[1;32m   2285\u001b[0m     )\n\u001b[0;32m-> 2286\u001b[0m     \u001b[38;5;28;43mself\u001b[39;49m\u001b[38;5;241;43m.\u001b[39;49m\u001b[43m_execute\u001b[49m\u001b[43m(\u001b[49m\u001b[43mmodifier\u001b[49m\u001b[43m)\u001b[49m\n\u001b[1;32m   2287\u001b[0m     \u001b[38;5;28;01mif\u001b[39;00m extra \u001b[38;5;129;01mand\u001b[39;00m name \u001b[38;5;241m!=\u001b[39m \u001b[38;5;124m\"\u001b[39m\u001b[38;5;124mid\u001b[39m\u001b[38;5;124m\"\u001b[39m:\n\u001b[1;32m   2288\u001b[0m         \u001b[38;5;28mself\u001b[39m\u001b[38;5;241m.\u001b[39mextra_cols\u001b[38;5;241m.\u001b[39mappend(name)\n",
      "File \u001b[0;32m~/code/lmfdb/lmfdb/backend/base.py:308\u001b[0m, in \u001b[0;36mPostgresBase._execute\u001b[0;34m(self, query, values, silent, values_list, template, commit, slow_note, reissued, buffered)\u001b[0m\n\u001b[1;32m    306\u001b[0m \u001b[38;5;28;01melse\u001b[39;00m:\n\u001b[1;32m    307\u001b[0m     \u001b[38;5;28;01mtry\u001b[39;00m:\n\u001b[0;32m--> 308\u001b[0m         \u001b[43mcur\u001b[49m\u001b[38;5;241;43m.\u001b[39;49m\u001b[43mexecute\u001b[49m\u001b[43m(\u001b[49m\u001b[43mquery\u001b[49m\u001b[43m,\u001b[49m\u001b[43m \u001b[49m\u001b[43mvalues\u001b[49m\u001b[43m)\u001b[49m\n\u001b[1;32m    309\u001b[0m     \u001b[38;5;28;01mexcept\u001b[39;00m (OperationalError, ProgrammingError, NotSupportedError, DataError, \u001b[38;5;167;01mSyntaxError\u001b[39;00m) \u001b[38;5;28;01mas\u001b[39;00m e:\n\u001b[1;32m    310\u001b[0m         \u001b[38;5;28;01mtry\u001b[39;00m:\n",
      "\u001b[0;31mReadOnlySqlTransaction\u001b[0m: cannot execute ALTER TABLE in a read-only transaction\n"
     ]
    }
   ],
   "source": [
    "db.ec_torsion_growth.add_column(name=\"extra_condition\", datatype='boolean', description='something')"
   ]
  },
  {
   "cell_type": "code",
   "execution_count": 12,
   "id": "fa5233c5",
   "metadata": {},
   "outputs": [
    {
     "name": "stderr",
     "output_type": "stream",
     "text": [
      "2024-05-10 18:11:12,859 - SELECT count FROM \"ec_torsion_growth_counts\" WHERE cols = '[\"$cond\"]' AND values = '[[{\"$mod\": [\"conductor\", 2]}, {\"degree\": 2}, {\"degree\": 2}]]' AND split = false ran in \u001b[91m 0.2614471912384033s \u001b[0m\n"
     ]
    },
    {
     "ename": "ValueError",
     "evalue": "Error building query: $cond",
     "output_type": "error",
     "traceback": [
      "\u001b[0;31m---------------------------------------------------------------------------\u001b[0m",
      "\u001b[0;31mValueError\u001b[0m                                Traceback (most recent call last)",
      "Cell \u001b[0;32mIn[12], line 1\u001b[0m\n\u001b[0;32m----> 1\u001b[0m \u001b[43mdb\u001b[49m\u001b[38;5;241;43m.\u001b[39;49m\u001b[43mec_torsion_growth\u001b[49m\u001b[38;5;241;43m.\u001b[39;49m\u001b[43msearch\u001b[49m\u001b[43m(\u001b[49m\u001b[43mquery\u001b[49m\u001b[38;5;241;43m=\u001b[39;49m\u001b[43m{\u001b[49m\u001b[38;5;124;43m'\u001b[39;49m\u001b[38;5;124;43m$cond\u001b[39;49m\u001b[38;5;124;43m'\u001b[39;49m\u001b[43m \u001b[49m\u001b[43m:\u001b[49m\u001b[43m \u001b[49m\u001b[43m[\u001b[49m\u001b[43m{\u001b[49m\u001b[43m \u001b[49m\u001b[38;5;124;43m\"\u001b[39;49m\u001b[38;5;124;43m$mod\u001b[39;49m\u001b[38;5;124;43m\"\u001b[39;49m\u001b[43m \u001b[49m\u001b[43m:\u001b[49m\u001b[43m \u001b[49m\u001b[43m[\u001b[49m\u001b[38;5;124;43m\"\u001b[39;49m\u001b[38;5;124;43mconductor\u001b[39;49m\u001b[38;5;124;43m\"\u001b[39;49m\u001b[43m,\u001b[49m\u001b[43m \u001b[49m\u001b[38;5;28;43mint\u001b[39;49m\u001b[43m(\u001b[49m\u001b[43mInteger\u001b[49m\u001b[43m(\u001b[49m\u001b[38;5;241;43m2\u001b[39;49m\u001b[43m)\u001b[49m\u001b[43m)\u001b[49m\u001b[43m \u001b[49m\u001b[43m]\u001b[49m\u001b[43m \u001b[49m\u001b[43m}\u001b[49m\n\u001b[1;32m      2\u001b[0m \u001b[43m,\u001b[49m\u001b[43m{\u001b[49m\u001b[38;5;124;43m'\u001b[39;49m\u001b[38;5;124;43mdegree\u001b[39;49m\u001b[38;5;124;43m'\u001b[39;49m\u001b[43m \u001b[49m\u001b[43m:\u001b[49m\u001b[43m \u001b[49m\u001b[38;5;28;43mint\u001b[39;49m\u001b[43m(\u001b[49m\u001b[43mInteger\u001b[49m\u001b[43m(\u001b[49m\u001b[38;5;241;43m2\u001b[39;49m\u001b[43m)\u001b[49m\u001b[43m)\u001b[49m\u001b[43m}\u001b[49m\u001b[43m,\u001b[49m\u001b[43m \u001b[49m\u001b[43m{\u001b[49m\u001b[38;5;124;43m'\u001b[39;49m\u001b[38;5;124;43mdegree\u001b[39;49m\u001b[38;5;124;43m'\u001b[39;49m\u001b[43m \u001b[49m\u001b[43m:\u001b[49m\u001b[43m \u001b[49m\u001b[38;5;28;43mint\u001b[39;49m\u001b[43m(\u001b[49m\u001b[43mInteger\u001b[49m\u001b[43m(\u001b[49m\u001b[38;5;241;43m2\u001b[39;49m\u001b[43m)\u001b[49m\u001b[43m)\u001b[49m\u001b[43m}\u001b[49m\u001b[43m \u001b[49m\u001b[43m]\u001b[49m\u001b[43m}\u001b[49m\u001b[43m,\u001b[49m\u001b[43m \u001b[49m\u001b[43mprojection\u001b[49m\u001b[38;5;241;43m=\u001b[39;49m\u001b[43mInteger\u001b[49m\u001b[43m(\u001b[49m\u001b[38;5;241;43m2\u001b[39;49m\u001b[43m)\u001b[49m\u001b[43m,\u001b[49m\u001b[43m \u001b[49m\u001b[43mlimit\u001b[49m\u001b[38;5;241;43m=\u001b[39;49m\u001b[43mInteger\u001b[49m\u001b[43m(\u001b[49m\u001b[38;5;241;43m10\u001b[39;49m\u001b[43m)\u001b[49m\u001b[43m)\u001b[49m\n",
      "File \u001b[0;32m~/code/lmfdb/lmfdb/backend/searchtable.py:894\u001b[0m, in \u001b[0;36mPostgresSearchTable.search\u001b[0;34m(self, query, projection, limit, offset, sort, info, split_ors, one_per, silent, raw, raw_values)\u001b[0m\n\u001b[1;32m    892\u001b[0m \u001b[38;5;28;01melse\u001b[39;00m:\n\u001b[1;32m    893\u001b[0m     prelimit \u001b[38;5;241m=\u001b[39m \u001b[38;5;28mmax\u001b[39m(limit, \u001b[38;5;28mself\u001b[39m\u001b[38;5;241m.\u001b[39m_count_cutoff \u001b[38;5;241m-\u001b[39m offset)\n\u001b[0;32m--> 894\u001b[0m cur \u001b[38;5;241m=\u001b[39m \u001b[43mrun_one_query\u001b[49m\u001b[43m(\u001b[49m\u001b[43mquery\u001b[49m\u001b[43m,\u001b[49m\u001b[43m \u001b[49m\u001b[43mprelimit\u001b[49m\u001b[43m,\u001b[49m\u001b[43m \u001b[49m\u001b[43moffset\u001b[49m\u001b[43m)\u001b[49m\n\u001b[1;32m    895\u001b[0m \u001b[38;5;28;01mif\u001b[39;00m limit \u001b[38;5;129;01mis\u001b[39;00m \u001b[38;5;28;01mNone\u001b[39;00m:\n\u001b[1;32m    896\u001b[0m     \u001b[38;5;28;01mif\u001b[39;00m info \u001b[38;5;129;01mis\u001b[39;00m \u001b[38;5;129;01mnot\u001b[39;00m \u001b[38;5;28;01mNone\u001b[39;00m:\n\u001b[1;32m    897\u001b[0m         \u001b[38;5;66;03m# caller is requesting count data\u001b[39;00m\n",
      "File \u001b[0;32m~/code/lmfdb/lmfdb/backend/searchtable.py:810\u001b[0m, in \u001b[0;36mPostgresSearchTable.search.<locals>.run_one_query\u001b[0;34m(Q, lim, off)\u001b[0m\n\u001b[1;32m    808\u001b[0m                 built \u001b[38;5;241m=\u001b[39m \u001b[38;5;28mself\u001b[39m\u001b[38;5;241m.\u001b[39m_build_query(Q, sort\u001b[38;5;241m=\u001b[39msort, raw\u001b[38;5;241m=\u001b[39mraw, one_per\u001b[38;5;241m=\u001b[39mone_per, raw_values\u001b[38;5;241m=\u001b[39mraw_values)\n\u001b[1;32m    809\u001b[0m             \u001b[38;5;28;01melse\u001b[39;00m:\n\u001b[0;32m--> 810\u001b[0m                 built \u001b[38;5;241m=\u001b[39m \u001b[38;5;28;43mself\u001b[39;49m\u001b[38;5;241;43m.\u001b[39;49m\u001b[43m_build_query\u001b[49m\u001b[43m(\u001b[49m\u001b[43mQ\u001b[49m\u001b[43m,\u001b[49m\u001b[43m \u001b[49m\u001b[43mlim\u001b[49m\u001b[43m,\u001b[49m\u001b[43m \u001b[49m\u001b[43moff\u001b[49m\u001b[43m,\u001b[49m\u001b[43m \u001b[49m\u001b[43msort\u001b[49m\u001b[43m,\u001b[49m\u001b[43m \u001b[49m\u001b[43mraw\u001b[49m\u001b[38;5;241;43m=\u001b[39;49m\u001b[43mraw\u001b[49m\u001b[43m,\u001b[49m\u001b[43m \u001b[49m\u001b[43mone_per\u001b[49m\u001b[38;5;241;43m=\u001b[39;49m\u001b[43mone_per\u001b[49m\u001b[43m,\u001b[49m\u001b[43m \u001b[49m\u001b[43mraw_values\u001b[49m\u001b[38;5;241;43m=\u001b[39;49m\u001b[43mraw_values\u001b[49m\u001b[43m)\u001b[49m\n\u001b[1;32m    811\u001b[0m             \u001b[38;5;28;01mif\u001b[39;00m one_per:\n\u001b[1;32m    812\u001b[0m \u001b[38;5;66;03m#SELECT lmfdb_label FROM (SELECT lmfdb_label, conductor, iso_nlabel, lmfdb_number, row_number() OVER (PARTITION BY lmfdb_iso ORDER BY conductor, iso_nlabel, lmfdb_number) as row_number FROM ec_curvedata WHERE jinv = '{-4096, 11}') temp WHERE row_number = 1 ORDER BY conductor, iso_nlabel, lmfdb_number\u001b[39;00m\n\u001b[1;32m    813\u001b[0m                 where, olo, values \u001b[38;5;241m=\u001b[39m built\n",
      "File \u001b[0;32m~/code/lmfdb/lmfdb/backend/searchtable.py:489\u001b[0m, in \u001b[0;36mPostgresSearchTable._build_query\u001b[0;34m(self, query, limit, offset, sort, raw, one_per, raw_values)\u001b[0m\n\u001b[1;32m    487\u001b[0m     raw_values \u001b[38;5;241m=\u001b[39m []\n\u001b[1;32m    488\u001b[0m \u001b[38;5;28;01mif\u001b[39;00m raw \u001b[38;5;129;01mis\u001b[39;00m \u001b[38;5;28;01mNone\u001b[39;00m:\n\u001b[0;32m--> 489\u001b[0m     qstr, values \u001b[38;5;241m=\u001b[39m \u001b[38;5;28;43mself\u001b[39;49m\u001b[38;5;241;43m.\u001b[39;49m\u001b[43m_parse_dict\u001b[49m\u001b[43m(\u001b[49m\u001b[43mquery\u001b[49m\u001b[43m)\u001b[49m\n\u001b[1;32m    490\u001b[0m \u001b[38;5;28;01melse\u001b[39;00m:\n\u001b[1;32m    491\u001b[0m     qstr, values \u001b[38;5;241m=\u001b[39m SQL(raw), raw_values\n",
      "File \u001b[0;32m~/code/lmfdb/lmfdb/backend/searchtable.py:360\u001b[0m, in \u001b[0;36mPostgresSearchTable._parse_dict\u001b[0;34m(self, D, outer, outer_type)\u001b[0m\n\u001b[1;32m    358\u001b[0m     \u001b[38;5;28;01mraise\u001b[39;00m \u001b[38;5;167;01mValueError\u001b[39;00m(\u001b[38;5;124m\"\u001b[39m\u001b[38;5;124mError building query: empty key\u001b[39m\u001b[38;5;124m\"\u001b[39m)\n\u001b[1;32m    359\u001b[0m \u001b[38;5;28;01mif\u001b[39;00m key[\u001b[38;5;241m0\u001b[39m] \u001b[38;5;241m==\u001b[39m \u001b[38;5;124m\"\u001b[39m\u001b[38;5;124m$\u001b[39m\u001b[38;5;124m\"\u001b[39m:\n\u001b[0;32m--> 360\u001b[0m     sub, vals \u001b[38;5;241m=\u001b[39m \u001b[38;5;28;43mself\u001b[39;49m\u001b[38;5;241;43m.\u001b[39;49m\u001b[43m_parse_special\u001b[49m\u001b[43m(\u001b[49m\u001b[43mkey\u001b[49m\u001b[43m,\u001b[49m\u001b[43m \u001b[49m\u001b[43mvalue\u001b[49m\u001b[43m,\u001b[49m\u001b[43m \u001b[49m\u001b[43mouter\u001b[49m\u001b[43m,\u001b[49m\u001b[43m \u001b[49m\u001b[43mcol_type\u001b[49m\u001b[38;5;241;43m=\u001b[39;49m\u001b[43mouter_type\u001b[49m\u001b[43m)\u001b[49m\n\u001b[1;32m    361\u001b[0m     \u001b[38;5;28;01mif\u001b[39;00m sub \u001b[38;5;129;01mis\u001b[39;00m \u001b[38;5;129;01mnot\u001b[39;00m \u001b[38;5;28;01mNone\u001b[39;00m:\n\u001b[1;32m    362\u001b[0m         strings\u001b[38;5;241m.\u001b[39mappend(sub)\n",
      "File \u001b[0;32m~/code/lmfdb/lmfdb/backend/searchtable.py:281\u001b[0m, in \u001b[0;36mPostgresSearchTable._parse_special\u001b[0;34m(self, key, value, col, col_type)\u001b[0m\n\u001b[1;32m    279\u001b[0m     value \u001b[38;5;241m=\u001b[39m value\u001b[38;5;241m.\u001b[39mreplace(\u001b[38;5;124m\"\u001b[39m\u001b[38;5;124m_\u001b[39m\u001b[38;5;124m\"\u001b[39m, \u001b[38;5;124mr\u001b[39m\u001b[38;5;124m\"\u001b[39m\u001b[38;5;124m\\\u001b[39m\u001b[38;5;124m_\u001b[39m\u001b[38;5;124m\"\u001b[39m)\u001b[38;5;241m.\u001b[39mreplace(\u001b[38;5;124m\"\u001b[39m\u001b[38;5;124m%\u001b[39m\u001b[38;5;124m\"\u001b[39m, \u001b[38;5;124mr\u001b[39m\u001b[38;5;124m\"\u001b[39m\u001b[38;5;124m\\\u001b[39m\u001b[38;5;124m%\u001b[39m\u001b[38;5;124m\"\u001b[39m) \u001b[38;5;241m+\u001b[39m \u001b[38;5;124m\"\u001b[39m\u001b[38;5;124m%\u001b[39m\u001b[38;5;124m\"\u001b[39m\n\u001b[1;32m    280\u001b[0m \u001b[38;5;28;01melse\u001b[39;00m:\n\u001b[0;32m--> 281\u001b[0m     \u001b[38;5;28;01mraise\u001b[39;00m \u001b[38;5;167;01mValueError\u001b[39;00m(\u001b[38;5;124m\"\u001b[39m\u001b[38;5;124mError building query: \u001b[39m\u001b[38;5;132;01m{0}\u001b[39;00m\u001b[38;5;124m\"\u001b[39m\u001b[38;5;241m.\u001b[39mformat(key))\n\u001b[1;32m    282\u001b[0m \u001b[38;5;28;01mif\u001b[39;00m col_type \u001b[38;5;241m==\u001b[39m \u001b[38;5;124m\"\u001b[39m\u001b[38;5;124mjsonb\u001b[39m\u001b[38;5;124m\"\u001b[39m:\n\u001b[1;32m    283\u001b[0m     value \u001b[38;5;241m=\u001b[39m Json(value)\n",
      "\u001b[0;31mValueError\u001b[0m: Error building query: $cond"
     ]
    }
   ],
   "source": [
    "db.ec_torsion_growth.search(query={'$cond' : [{ \"$mod\" : [\"conductor\", int(2) ] }\n",
    ",{'degree' : int(2)}, {'degree' : int(2)} ]}, projection=2, limit=10)"
   ]
  },
  {
   "cell_type": "code",
   "execution_count": 2,
   "id": "90e1505b",
   "metadata": {},
   "outputs": [
    {
     "data": {
      "text/plain": [
       "['/home/miguelpi/code/NumberTheory',\n",
       " '/home/miguelpi/anaconda3/envs/Number_Theory/lib/python311.zip',\n",
       " '/home/miguelpi/anaconda3/envs/Number_Theory/lib/python3.11',\n",
       " '/home/miguelpi/anaconda3/envs/Number_Theory/lib/python3.11/lib-dynload',\n",
       " '',\n",
       " '/home/miguelpi/anaconda3/envs/Number_Theory/lib/python3.11/site-packages',\n",
       " '/home/miguelpi/code/lmfdb']"
      ]
     },
     "execution_count": 2,
     "metadata": {},
     "output_type": "execute_result"
    }
   ],
   "source": [
    "import sys\n",
    "sys.path"
   ]
  },
  {
   "cell_type": "code",
   "execution_count": null,
   "id": "520fdb31",
   "metadata": {},
   "outputs": [],
   "source": []
  },
  {
   "cell_type": "code",
   "execution_count": null,
   "id": "85fd17ec",
   "metadata": {},
   "outputs": [],
   "source": []
  },
  {
   "cell_type": "code",
   "execution_count": null,
   "id": "a4d78346",
   "metadata": {},
   "outputs": [],
   "source": []
  },
  {
   "cell_type": "code",
   "execution_count": null,
   "id": "6175f31b",
   "metadata": {},
   "outputs": [],
   "source": []
  },
  {
   "cell_type": "code",
   "execution_count": 2,
   "id": "7d8617e5",
   "metadata": {},
   "outputs": [
    {
     "name": "stderr",
     "output_type": "stream",
     "text": [
      "2024-05-10 17:18:59,474 - SELECT \"id\", \"authors\", \"cat\", \"content\", \"last_author\", \"timestamp\", \"title\", \"status\", \"type\", \"links\", \"defines\", \"source\", \"source_name\" FROM (SELECT DISTINCT ON (id) \"id\", \"authors\", \"cat\", \"content\", \"last_author\", \"timestamp\", \"title\", \"status\", \"type\", \"links\", \"defines\", \"source\", \"source_name\" FROM kwl_knowls WHERE id LIKE 'columns.ec_curvedata.%' AND type = 2 AND status >= 0 ORDER BY id, timestamp) knowls ORDER BY id ran in \u001b[91m 0.38292479515075684s \u001b[0m\n"
     ]
    },
    {
     "data": {
      "text/plain": [
       "{'Ciso': 'Cremona label of isogeny class',\n",
       " 'Clabel': 'Cremona label of curve',\n",
       " 'Cnumber': 'Cremona index of curve in its isogeny class',\n",
       " 'abc_quality': 'quality of the abc-triple associated to the j-invariant',\n",
       " 'absD': 'Absolute value of discriminant',\n",
       " 'adelic_genus': 'The genus of the modular curve on which this elliptic curve is a canonical rational point',\n",
       " 'adelic_index': 'The index in $\\\\GL_2(\\\\widehat{\\\\mathbb{Z}})$ of the adelic image of this elliptic curve.',\n",
       " 'adelic_level': 'The level of the maximal modular curve on which this elliptic curve defines a rational point.',\n",
       " 'ainvs': 'a-invariants',\n",
       " 'analytic_rank': 'analytic rank',\n",
       " 'bad_primes': 'primes of bad reduction',\n",
       " 'class_deg': 'LCM of degrees of isogenies',\n",
       " 'class_size': 'Size of isogeny class',\n",
       " 'cm': 'CM discriminant, or 0',\n",
       " 'conductor': 'Conductor',\n",
       " 'degree': 'Degree of modular parametrization',\n",
       " 'elladic_images': 'List of Sutherland labels of subgroups of $\\\\GL_2(\\\\Z/\\\\ell\\\\Z)$.',\n",
       " 'faltings_height': 'Faltings height',\n",
       " 'faltings_index': 'index of curve in its isogeny class, sorted by Faltings height',\n",
       " 'faltings_ratio': 'integer ratio of period area to that of the curve with minimal Faltings height in its isogeny class',\n",
       " 'iso_nlabel': 'numerical version of the LMFDB isogeny class label',\n",
       " 'isogeny_degrees': 'Degrees of cyclic isogenies for this curve',\n",
       " 'jinv': 'j-invariant [numerator,denominator]',\n",
       " 'lmfdb_iso': 'LMFDB isogeny class code',\n",
       " 'lmfdb_label': 'LMFDB label',\n",
       " 'lmfdb_number': 'LMFDB index of curve in its isogeny class',\n",
       " 'manin_constant': 'Manin constant',\n",
       " 'min_quad_twist_ainvs': 'a-invariants of minimal quadratic twist',\n",
       " 'min_quad_twist_disc': 'discriminant of twist to minimal quadratic twist',\n",
       " 'modell_images': \"List of {{KNOWL('modcurve.other_labels', 'Sutherland labels')}} of mod-$\\\\ell$ {{KNOWL('ec.galois_rep','Galois images')}} at {{KNOWL('ec.maximal_elladic_galois_rep','nonmaximal primes')}} $\\\\ell$.\",\n",
       " 'modm_images': 'Sorted list of RSZB labels (or partial labels) $\\\\texttt{N.i.g.n}$ of subgroups of $\\\\GL(2,\\\\widehat \\\\Z)$ that correspond to images of mod-$m$ Galois representations with the property that the index of the mod-$m$ image is stricly larger than the index of any of the mod-$n$ image for any proper divisor $n$ of $m$.\\r\\n\\r\\nThis is the complete list of modular curves $X_H$ on which this elliptic curve represents a maximal rational point (meaning its mod-$m$ image is equalt to $H$, not a proper subgroup of $H$).\\r\\n\\r\\nThe list is sorted so that the first entry in the list is $\\\\texttt{1.1.0.1}$ and the last entry is the label of the adelic image.  Labels may have a $\\\\texttt{?}$ in the last part of the label indicate cases where the full label is not known (the level, index, and genus are always known, but the exact label may not be when the level is large).',\n",
       " 'nonmax_primes': 'primes for which the mod-p Galois representation has non-maximal image',\n",
       " 'nonmax_rad': 'product of non-maximal primes',\n",
       " 'num_bad_primes': 'number of primes of bad reduction',\n",
       " 'num_int_pts': 'number of integral points',\n",
       " 'optimality': 'optimality code (0=no, 1=yes, n>0 if one of n possibles)',\n",
       " 'potential_good_reduction': 'potential good reduction flag',\n",
       " 'rank': 'Mordell-Weil rank',\n",
       " 'regulator': 'Regulator',\n",
       " 'semistable': 'Semistable flag',\n",
       " 'sha': 'Analytic order of Sha (rounded)',\n",
       " 'sha_primes': 'Primes dividing Sha',\n",
       " 'signD': 'Sign of discriminant',\n",
       " 'stable_faltings_height': 'Stable Faltings height',\n",
       " 'szpiro_ratio': 'Szpiro ratio',\n",
       " 'torsion': 'Torsion order',\n",
       " 'torsion_primes': 'Primes dividing torsion order',\n",
       " 'torsion_structure': 'Structure constants of torsion subgroup'}"
      ]
     },
     "execution_count": 2,
     "metadata": {},
     "output_type": "execute_result"
    }
   ],
   "source": [
    "db.ec_curvedata.column_description()"
   ]
  },
  {
   "cell_type": "code",
   "execution_count": 3,
   "id": "7118fbbd",
   "metadata": {},
   "outputs": [
    {
     "name": "stderr",
     "output_type": "stream",
     "text": [
      "2024-05-10 17:19:17,729 - SELECT count FROM \"ec_torsion_growth_counts\" WHERE cols = '[\"degree\"]' AND values = '[2]' AND split = false ran in \u001b[91m 0.40047240257263184s \u001b[0m\n",
      "2024-05-10 17:19:18,660 - SELECT \"lmfdb_label\", \"degree\", \"field\", \"torsion\", \"conductor\" FROM \"ec_torsion_growth\" WHERE \"degree\" = 2 ORDER BY \"lmfdb_label\", \"degree\" LIMIT 1000 ran in \u001b[91m 0.8027896881103516s \u001b[0m\n",
      "2024-05-10 17:19:18,662 - Replicate with db.ec_torsion_growth.analyze({'degree': 2}, 2, 1000, 0)\n"
     ]
    },
    {
     "data": {
      "text/plain": [
       "[{'lmfdb_label': '100.a1',\n",
       "  'degree': 2,\n",
       "  'field': [-1, -1, 1],\n",
       "  'torsion': [2, 2],\n",
       "  'conductor': 100},\n",
       " {'lmfdb_label': '100.a1',\n",
       "  'degree': 2,\n",
       "  'field': [4, -1, 1],\n",
       "  'torsion': [6],\n",
       "  'conductor': 100},\n",
       " {'lmfdb_label': '100.a2',\n",
       "  'degree': 2,\n",
       "  'field': [1, 0, 1],\n",
       "  'torsion': [2, 2],\n",
       "  'conductor': 100},\n",
       " {'lmfdb_label': '100.a2',\n",
       "  'degree': 2,\n",
       "  'field': [4, -1, 1],\n",
       "  'torsion': [6],\n",
       "  'conductor': 100},\n",
       " {'lmfdb_label': '100.a3',\n",
       "  'degree': 2,\n",
       "  'field': [-1, -1, 1],\n",
       "  'torsion': [2, 6],\n",
       "  'conductor': 100},\n",
       " {'lmfdb_label': '100.a4',\n",
       "  'degree': 2,\n",
       "  'field': [1, 0, 1],\n",
       "  'torsion': [2, 2],\n",
       "  'conductor': 100},\n",
       " {'lmfdb_label': '100.a4',\n",
       "  'degree': 2,\n",
       "  'field': [-1, -1, 1],\n",
       "  'torsion': [6],\n",
       "  'conductor': 100},\n",
       " {'lmfdb_label': '100002.a1',\n",
       "  'degree': 2,\n",
       "  'field': [-7, 0, 1],\n",
       "  'torsion': [2, 2],\n",
       "  'conductor': 100002},\n",
       " {'lmfdb_label': '100002.a2',\n",
       "  'degree': 2,\n",
       "  'field': [1786, -1, 1],\n",
       "  'torsion': [2, 2],\n",
       "  'conductor': 100002},\n",
       " {'lmfdb_label': '10001.a1',\n",
       "  'degree': 2,\n",
       "  'field': [-18, -1, 1],\n",
       "  'torsion': [2, 2],\n",
       "  'conductor': 10001}]"
      ]
     },
     "execution_count": 3,
     "metadata": {},
     "output_type": "execute_result"
    }
   ],
   "source": [
    "lista = [ec for ec in db.ec_torsion_growth.search(query={'degree' : int(2)}, projection=2, limit=10)]\n",
    "lista"
   ]
  },
  {
   "cell_type": "code",
   "execution_count": 4,
   "id": "84573b24",
   "metadata": {},
   "outputs": [
    {
     "name": "stderr",
     "output_type": "stream",
     "text": [
      "2024-05-10 17:19:30,255 - SELECT \"id\", \"authors\", \"cat\", \"content\", \"last_author\", \"timestamp\", \"title\", \"status\", \"type\", \"links\", \"defines\", \"source\", \"source_name\" FROM (SELECT DISTINCT ON (id) \"id\", \"authors\", \"cat\", \"content\", \"last_author\", \"timestamp\", \"title\", \"status\", \"type\", \"links\", \"defines\", \"source\", \"source_name\" FROM kwl_knowls WHERE id LIKE 'columns.ec_torsion_growth.%' AND type = 2 AND status >= 0 ORDER BY id, timestamp) knowls ORDER BY id ran in \u001b[91m 0.25947999954223633s \u001b[0m\n"
     ]
    },
    {
     "data": {
      "text/plain": [
       "{'conductor': 'Conductor',\n",
       " 'degree': 'Degree of extension field',\n",
       " 'field': 'Extension field (polynomial coefficients)',\n",
       " 'lmfdb_label': 'LMFDB label',\n",
       " 'torsion': 'Torsion structure over the extension field'}"
      ]
     },
     "execution_count": 4,
     "metadata": {},
     "output_type": "execute_result"
    }
   ],
   "source": [
    "db.ec_torsion_growth.column_description()"
   ]
  },
  {
   "cell_type": "code",
   "execution_count": 5,
   "id": "3f1ceffa",
   "metadata": {},
   "outputs": [
    {
     "name": "stderr",
     "output_type": "stream",
     "text": [
      "2024-05-10 17:19:46,911 - SELECT count FROM \"ec_torsion_growth_counts\" WHERE cols = '[\"degree\"]' AND values = '[2]' AND split = false ran in \u001b[91m 0.25476884841918945s \u001b[0m\n",
      "2024-05-10 17:19:48,797 - SELECT \"ec_torsion_growth\".\"lmfdb_label\", \"ec_torsion_growth\".\"torsion\", \"ec_torsion_growth\".\"degree\", \"ec_curvedata\".\"absD\" FROM \"ec_torsion_growth\" JOIN \"ec_curvedata\" ON \"ec_torsion_growth\".\"lmfdb_label\" = \"ec_curvedata\".\"lmfdb_label\" WHERE \"ec_torsion_growth\".\"degree\" = 2 ORDER BY \"ec_torsion_growth\".\"lmfdb_label\", \"ec_torsion_growth\".\"degree\" LIMIT 1000 ran in \u001b[91m 1.7577567100524902s \u001b[0m\n",
      "2024-05-10 17:19:48,799 - Replicate with db.ec_torsion_growth.analyze({'degree': 2}, ['lmfdb_label', 'torsion', 'degree', ('ec_curvedata', 'absD')], 1000, 0)\n"
     ]
    },
    {
     "data": {
      "text/plain": [
       "[{'lmfdb_label': '100.a1',\n",
       "  'torsion': [2, 2],\n",
       "  'degree': 2,\n",
       "  ('ec_curvedata', 'absD'): 31250000},\n",
       " {'lmfdb_label': '100.a1',\n",
       "  'torsion': [6],\n",
       "  'degree': 2,\n",
       "  ('ec_curvedata', 'absD'): 31250000},\n",
       " {'lmfdb_label': '100.a2',\n",
       "  'torsion': [2, 2],\n",
       "  'degree': 2,\n",
       "  ('ec_curvedata', 'absD'): 62500000000},\n",
       " {'lmfdb_label': '100.a2',\n",
       "  'torsion': [6],\n",
       "  'degree': 2,\n",
       "  ('ec_curvedata', 'absD'): 62500000000},\n",
       " {'lmfdb_label': '100.a3',\n",
       "  'torsion': [2, 6],\n",
       "  'degree': 2,\n",
       "  ('ec_curvedata', 'absD'): 1250000},\n",
       " {'lmfdb_label': '100.a4',\n",
       "  'torsion': [2, 2],\n",
       "  'degree': 2,\n",
       "  ('ec_curvedata', 'absD'): 100000000},\n",
       " {'lmfdb_label': '100.a4',\n",
       "  'torsion': [6],\n",
       "  'degree': 2,\n",
       "  ('ec_curvedata', 'absD'): 100000000},\n",
       " {'lmfdb_label': '100002.a1',\n",
       "  'torsion': [2, 2],\n",
       "  'degree': 2,\n",
       "  ('ec_curvedata', 'absD'): 5714514288},\n",
       " {'lmfdb_label': '100002.a2',\n",
       "  'torsion': [2, 2],\n",
       "  'degree': 2,\n",
       "  ('ec_curvedata', 'absD'): 89601792},\n",
       " {'lmfdb_label': '10001.a1',\n",
       "  'torsion': [2, 2],\n",
       "  'degree': 2,\n",
       "  ('ec_curvedata', 'absD'): 482665506294457}]"
      ]
     },
     "execution_count": 5,
     "metadata": {},
     "output_type": "execute_result"
    }
   ],
   "source": [
    "db.ec_torsion_growth.join_search(query={'degree': int(2)},projection=[\"lmfdb_label\", \"torsion\", \"degree\", (\"ec_curvedata\", \"absD\")], join=[(\"ec_torsion_growth\", \"lmfdb_label\", \"ec_curvedata\",\"lmfdb_label\")], limit =10)"
   ]
  },
  {
   "cell_type": "code",
   "execution_count": 6,
   "id": "9477236b",
   "metadata": {},
   "outputs": [
    {
     "name": "stderr",
     "output_type": "stream",
     "text": [
      "2024-05-10 17:20:08,808 - SELECT count FROM \"ec_nfcurves_counts\" WHERE cols = '[\"rank\"]' AND values = '[1]' AND split = false ran in \u001b[91m 1.1579384803771973s \u001b[0m\n",
      "2024-05-10 17:20:12,528 - SELECT \"ec_nfcurves\".\"label\", \"nf_fields\".\"r2\" FROM \"ec_nfcurves\" JOIN \"nf_fields\" ON \"ec_nfcurves\".\"field_label\" = \"nf_fields\".\"label\" WHERE \"ec_nfcurves\".\"rank\" = 1 ORDER BY \"ec_nfcurves\".\"field_label\", \"ec_nfcurves\".\"conductor_norm\", \"ec_nfcurves\".\"conductor_label\", \"ec_nfcurves\".\"iso_nlabel\", \"ec_nfcurves\".\"number\" LIMIT 1000 ran in \u001b[91m 3.5903468132019043s \u001b[0m\n",
      "2024-05-10 17:20:12,529 - Replicate with db.ec_nfcurves.analyze({'rank': 1}, ['label', ('nf_fields', 'r2')], 1000, 0)\n"
     ]
    },
    {
     "data": {
      "text/plain": [
       "[{'label': '2.0.11.1-47.1-a1', ('nf_fields', 'r2'): 1},\n",
       " {'label': '2.0.11.1-47.2-a1', ('nf_fields', 'r2'): 1},\n",
       " {'label': '2.0.11.1-108.1-a1', ('nf_fields', 'r2'): 1}]"
      ]
     },
     "execution_count": 6,
     "metadata": {},
     "output_type": "execute_result"
    }
   ],
   "source": [
    "db.ec_nfcurves.join_search({\"rank\":1}, [\"label\", (\"nf_fields\", \"r2\")], [(\"ec_nfcurves\", \"field_label\", \"nf_fields\", \"label\")], limit=3)\n"
   ]
  },
  {
   "cell_type": "code",
   "execution_count": null,
   "id": "80925c70",
   "metadata": {},
   "outputs": [],
   "source": []
  }
 ],
 "metadata": {
  "kernelspec": {
   "display_name": "SageMath 10.2",
   "language": "sage",
   "name": "sagemath"
  },
  "language_info": {
   "codemirror_mode": {
    "name": "ipython",
    "version": 3
   },
   "file_extension": ".py",
   "mimetype": "text/x-python",
   "name": "python",
   "nbconvert_exporter": "python",
   "pygments_lexer": "ipython3",
   "version": "3.11.9"
  }
 },
 "nbformat": 4,
 "nbformat_minor": 5
}
