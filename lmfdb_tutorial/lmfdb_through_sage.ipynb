{
 "cells": [
  {
   "cell_type": "code",
   "execution_count": 1,
   "id": "28e2e6f1",
   "metadata": {},
   "outputs": [
    {
     "name": "stderr",
     "output_type": "stream",
     "text": [
      "INFO:LMFDB@2025-10-04 09:59:13,924: Configuration = {'flask_options': {'port': 37777, 'host': '127.0.0.1', 'debug': True, 'use_reloader': False}, 'postgresql_options': {'port': 5432, 'host': 'devmirror.lmfdb.xyz', 'dbname': 'lmfdb', 'user': 'lmfdb', 'password': '****'}, 'logging_options': {'logfile': 'flasklog', 'slowcutoff': 0.1, 'slowlogfile': 'slow_queries.log', 'editor': '', 'loglevel': 20}} \n",
      "INFO:LMFDB@2025-10-04 09:59:14,059: Connecting to PostgresSQL server as: user=lmfdb host=devmirror.lmfdb.xyz port=5432 dbname=lmfdb... \n",
      "INFO:LMFDB@2025-10-04 09:59:16,205: Done!\n",
      " connection = <connection object at 0x768ca934e200; dsn: 'user=lmfdb password=xxx dbname=lmfdb host=devmirror.lmfdb.xyz port=5432', closed: 0> \n",
      "2025-10-04 09:59:17,741 - SELECT pg_is_in_recovery() ran in \u001b[91m 0.30677294731140137s \u001b[0m\n",
      "2025-10-04 09:59:18,663 - SELECT current_setting('is_superuser') ran in \u001b[91m 0.6147310733795166s \u001b[0m\n",
      "INFO:LMFDB@2025-10-04 09:59:18,970: User: lmfdb \n",
      "INFO:LMFDB@2025-10-04 09:59:18,972: Read only: True \n",
      "INFO:LMFDB@2025-10-04 09:59:18,974: Super user: False \n",
      "INFO:LMFDB@2025-10-04 09:59:18,975: Read/write to userdb: False \n",
      "INFO:LMFDB@2025-10-04 09:59:18,976: Read/write to knowls: False \n",
      "2025-10-04 09:59:23,169 - SELECT table_name, column_name, udt_name::regtype FROM information_schema.columns ORDER BY table_name, ordinal_position ran in \u001b[91m 4.191269636154175s \u001b[0m\n",
      "2025-10-04 09:59:24,193 - SELECT name, label_col, sort, count_cutoff, id_ordered, out_of_order, has_extras, stats_valid, total, include_nones FROM meta_tables ran in \u001b[91m 0.6782848834991455s \u001b[0m\n"
     ]
    }
   ],
   "source": [
    "from lmfdb import db"
   ]
  },
  {
   "cell_type": "markdown",
   "id": "aeb3df14",
   "metadata": {},
   "source": [
    "# Download of all curves with growth of the torsion over some quadratic field"
   ]
  },
  {
   "cell_type": "code",
   "execution_count": 2,
   "id": "4dafe9b0",
   "metadata": {},
   "outputs": [
    {
     "name": "stderr",
     "output_type": "stream",
     "text": [
      "2025-10-04 09:59:25,114 - SELECT count FROM \"ec_torsion_growth_counts\" WHERE cols = '[\"degree\"]' AND values = '[2]' AND split = false ran in \u001b[91m 0.5961771011352539s \u001b[0m\n",
      "2025-10-04 09:59:26,343 - SELECT \"ec_torsion_growth\".\"lmfdb_label\", \"ec_torsion_growth\".\"torsion\", \"ec_torsion_growth\".\"degree\", \"ec_torsion_growth\".\"field\", \"ec_torsion_growth\".\"conductor\", \"ec_curvedata\".\"torsion_structure\", \"ec_curvedata\".\"absD\" FROM \"ec_torsion_growth\" JOIN \"ec_curvedata\" ON \"ec_torsion_growth\".\"lmfdb_label\" = \"ec_curvedata\".\"lmfdb_label\" WHERE \"ec_torsion_growth\".\"degree\" = 2 ORDER BY \"ec_torsion_growth\".\"lmfdb_label\", \"ec_torsion_growth\".\"degree\" LIMIT 1000 ran in \u001b[91m 0.9218900203704834s \u001b[0m\n",
      "2025-10-04 09:59:26,345 - Replicate with db.ec_torsion_growth.analyze({'degree': 2}, ['lmfdb_label', 'torsion', 'degree', 'field', 'conductor', ('ec_curvedata', 'torsion_structure'), ('ec_curvedata', 'absD')], 1000, 0)\n"
     ]
    }
   ],
   "source": [
    "table = db.ec_torsion_growth.join_search(query={'degree' : int(2)}, \n",
    "                                        projection=[\"lmfdb_label\", \"torsion\", \"degree\", \"field\", \"conductor\", (\"ec_curvedata\", \"torsion_structure\"),(\"ec_curvedata\", \"absD\")], \n",
    "                                        join=[(\"ec_torsion_growth\", \"lmfdb_label\", \"ec_curvedata\",\"lmfdb_label\")],\n",
    "                                         limit = 10)\n",
    "\n",
    "# If you change the limit to None, it will take a few hours to download all the curves \n",
    "ecs = list(table)"
   ]
  },
  {
   "cell_type": "code",
   "execution_count": 3,
   "id": "fa5233c5",
   "metadata": {},
   "outputs": [],
   "source": [
    "#Prepare the data to state conjectures \n",
    "x = polygen(ZZ,'x')\n",
    "\n",
    "for ec in ecs:\n",
    "    ec['torsion_before'] = ec[('ec_curvedata','torsion_structure')]\n",
    "    ec['torsion_after'] = ec['torsion']\n",
    "    ec['curve_discriminant'] = ec[('ec_curvedata','absD')]\n",
    "    \n",
    "    del ec['torsion']\n",
    "    del ec[('ec_curvedata','torsion_structure')]\n",
    "    del ec[('ec_curvedata','absD')]\n",
    "    \n",
    "    f = ec['field']\n",
    "    K.<alpha> = NumberField(f[0]*x^2+ f[1]*x + f[2]) \n",
    "    ec['disc_abs'] = K.absolute_discriminant()"
   ]
  },
  {
   "cell_type": "code",
   "execution_count": 4,
   "id": "4b8c90df",
   "metadata": {},
   "outputs": [
    {
     "data": {
      "text/plain": [
       "{'lmfdb_label': '100.a1',\n",
       " 'degree': 2,\n",
       " 'field': [-1, -1, 1],\n",
       " 'conductor': 100,\n",
       " 'torsion_before': [2],\n",
       " 'torsion_after': [2, 2],\n",
       " 'curve_discriminant': 31250000,\n",
       " 'disc_abs': 5}"
      ]
     },
     "execution_count": 4,
     "metadata": {},
     "output_type": "execute_result"
    }
   ],
   "source": [
    "ecs[0]"
   ]
  },
  {
   "cell_type": "markdown",
   "id": "bc03c31c",
   "metadata": {},
   "source": [
    "# Funciones auxiliares"
   ]
  },
  {
   "cell_type": "code",
   "execution_count": 5,
   "id": "520fdb31",
   "metadata": {},
   "outputs": [],
   "source": [
    "def prod(xs):\n",
    "    prod = 1\n",
    "    for x in xs:\n",
    "        prod *= x\n",
    "    return prod\n",
    "\n",
    "def conditions(curve,  dict_key_property):\n",
    "    boolean = True\n",
    "    for key, propertyy in  dict_key_property.items():\n",
    "        boolean = boolean and propertyy(curve[key])\n",
    "    return boolean\n",
    "\n",
    "def growth_torsion_search(dict_possible_torsion_growth, curves_list):\n",
    "    return [ec for ec in curves_list if (tuple(ec['torsion_before']) in dict_possible_torsion_growth.keys()) \n",
    "            and (ec['torsion_after'] in dict_possible_torsion_growth[tuple(ec['torsion_before'])])]\n",
    "    \n",
    "    "
   ]
  },
  {
   "cell_type": "code",
   "execution_count": 6,
   "id": "7e4f4d23",
   "metadata": {},
   "outputs": [],
   "source": [
    "dict_conditions = {'conductor' : lambda cond : cond%3 != 0, \n",
    "                   'torsion_before' : lambda tor_list : prod(tor_list)% 3 != 0,\n",
    "                   'torsion_after' : lambda tor_list: prod(tor_list)%3 == 0,\n",
    "                   'disc_abs' : lambda disc: disc%3 == 0}\n",
    "\n",
    "ecs_trivial2C3 = [ec for ec in ecs if  conditions(ec, dict_conditions)]"
   ]
  },
  {
   "cell_type": "code",
   "execution_count": 7,
   "id": "85fd17ec",
   "metadata": {},
   "outputs": [
    {
     "data": {
      "text/plain": [
       "0"
      ]
     },
     "execution_count": 7,
     "metadata": {},
     "output_type": "execute_result"
    }
   ],
   "source": [
    "counterexamples = [ec for ec in ecs_trivial2C3 if prod(ec['torsion_after'])/prod(ec['torsion_before']) != 3]\n",
    "len(counterexamples)"
   ]
  },
  {
   "cell_type": "code",
   "execution_count": null,
   "id": "423e3754",
   "metadata": {},
   "outputs": [],
   "source": []
  }
 ],
 "metadata": {
  "kernelspec": {
   "display_name": "SageMath 10.2",
   "language": "sage",
   "name": "sagemath"
  },
  "language_info": {
   "codemirror_mode": {
    "name": "ipython",
    "version": 3
   },
   "file_extension": ".py",
   "mimetype": "text/x-python",
   "name": "python",
   "nbconvert_exporter": "python",
   "pygments_lexer": "ipython3",
   "version": "3.11.9"
  }
 },
 "nbformat": 4,
 "nbformat_minor": 5
}
