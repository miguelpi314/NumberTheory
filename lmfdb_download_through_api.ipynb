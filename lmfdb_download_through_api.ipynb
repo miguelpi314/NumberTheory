{
 "cells": [
  {
   "cell_type": "code",
   "execution_count": 13,
   "id": "155543f0-7f79-4bd5-8160-76c18b51ac1a",
   "metadata": {},
   "outputs": [
    {
     "ename": "ModuleNotFoundError",
     "evalue": "No module named 'httpx'",
     "output_type": "error",
     "traceback": [
      "\u001b[0;31m---------------------------------------------------------------------------\u001b[0m",
      "\u001b[0;31mModuleNotFoundError\u001b[0m                       Traceback (most recent call last)",
      "\u001b[0;32m/tmp/ipykernel_28613/3166523770.py\u001b[0m in \u001b[0;36m<module>\u001b[0;34m\u001b[0m\n\u001b[0;32m----> 1\u001b[0;31m \u001b[0;32mimport\u001b[0m \u001b[0mhttpx\u001b[0m\u001b[0;34m\u001b[0m\u001b[0;34m\u001b[0m\u001b[0m\n\u001b[0m\u001b[1;32m      2\u001b[0m \u001b[0;32mimport\u001b[0m \u001b[0mpickle\u001b[0m\u001b[0;34m\u001b[0m\u001b[0;34m\u001b[0m\u001b[0m\n",
      "\u001b[0;31mModuleNotFoundError\u001b[0m: No module named 'httpx'"
     ]
    }
   ],
   "source": [
    "import httpx\n",
    "import pickle"
   ]
  },
  {
   "cell_type": "code",
   "execution_count": 3,
   "id": "e4f33e2f-e56a-4bc3-81b6-8cb9ed38cd6c",
   "metadata": {},
   "outputs": [],
   "source": [
    "def list2url(xs):\n",
    "    url = 'li'\n",
    "    for n,x in enumerate(xs):\n",
    "        url += str(x) \n",
    "        if n != len(xs)-1:\n",
    "            url += ','\n",
    "    return url\n"
   ]
  },
  {
   "cell_type": "markdown",
   "id": "400627ac-35c0-46fa-aa57-44bac3a41dbb",
   "metadata": {
    "jp-MarkdownHeadingCollapsed": true
   },
   "source": [
    "# Descarga del crecimiento de la torsión en el caso cúbico"
   ]
  },
  {
   "cell_type": "code",
   "execution_count": null,
   "id": "943a6654-10b7-4941-98a4-1ed4148efef5",
   "metadata": {},
   "outputs": [],
   "source": [
    "degree = 3\n",
    "elliptic_curves = []\n",
    "for i in range(10001):\n",
    "    elliptic_curves = elliptic_curves + httpx.get(f'https://beta.lmfdb.org/api/ec_torsion_growth/?_format=json&degree={degree}&_offset={i}').json()['data']\n"
   ]
  },
  {
   "cell_type": "code",
   "execution_count": null,
   "id": "c096e488-3937-4523-84b0-8edec8f27aeb",
   "metadata": {},
   "outputs": [],
   "source": [
    "len(elliptic_curves)"
   ]
  },
  {
   "cell_type": "code",
   "execution_count": null,
   "id": "82b4c9ce-ac6f-454d-bcb3-e583bab3534e",
   "metadata": {},
   "outputs": [],
   "source": [
    "with open('elliptic_curves_list_cubic_lmfdb.pkl', 'wb') as f:\n",
    "   pickle.dump(elliptic_curves, f)\n"
   ]
  },
  {
   "cell_type": "code",
   "execution_count": null,
   "id": "0b799c49-78e4-42f3-89df-8b962a6329cd",
   "metadata": {},
   "outputs": [],
   "source": [
    "for ec in elliptic_curves:\n",
    "    field = list2url(ec['field'])\n",
    "    discriminant = httpx.get(f'https://beta.lmfdb.org/api/nf_fields/?_format=json&coeffs={field}').json()['data'][0]['disc_abs']\n",
    "    ec['disc_abs'] = discriminant"
   ]
  },
  {
   "cell_type": "markdown",
   "id": "61e914b3",
   "metadata": {},
   "source": [
    "# Cálculo de los discriminantes "
   ]
  },
  {
   "cell_type": "code",
   "execution_count": 16,
   "id": "7a1f4005-413b-4d89-b6ea-25d9e40d7ef5",
   "metadata": {},
   "outputs": [],
   "source": [
    "x = polygen(ZZ,'x')\n",
    "for ec in ecs_cubic:\n",
    "    f = ec['field']\n",
    "    K.<alpha> = NumberField(f[0]*x^3+ f[1]*x^2 + f[2]*x+f[3]) \n",
    "    ec['disc_abs'] = K.absolute_discriminant()"
   ]
  },
  {
   "cell_type": "code",
   "execution_count": 19,
   "id": "8f890cf6",
   "metadata": {},
   "outputs": [],
   "source": [
    "with open('elliptic_curves_list_cubic_w_disc_lmfdb.pkl', 'wb') as f:\n",
    "   pickle.dump(ecs_cubic, f)"
   ]
  },
  {
   "cell_type": "code",
   "execution_count": 18,
   "id": "6c84c0bb",
   "metadata": {},
   "outputs": [
    {
     "data": {
      "text/plain": [
       "{'id': 4750594,\n",
       " 'lmfdb_label': '102510.n1',\n",
       " 'degree': 3,\n",
       " 'field': [-37, 1, -1, 1],\n",
       " 'torsion': [2],\n",
       " 'conductor': 102510,\n",
       " 'disc_abs': -9112}"
      ]
     },
     "execution_count": 18,
     "metadata": {},
     "output_type": "execute_result"
    }
   ],
   "source": []
  },
  {
   "cell_type": "code",
   "execution_count": 10,
   "id": "9385f0cc",
   "metadata": {},
   "outputs": [
    {
     "data": {
      "text/plain": [
       "-26668"
      ]
     },
     "execution_count": 10,
     "metadata": {},
     "output_type": "execute_result"
    }
   ],
   "source": []
  },
  {
   "cell_type": "markdown",
   "id": "acb9fff4-11b9-4005-beb2-5e3327850e40",
   "metadata": {},
   "source": [
    "# Carga del crecimiento de la torsión en el caso cúbico"
   ]
  },
  {
   "cell_type": "code",
   "execution_count": 4,
   "id": "0a116b55-b0dc-4ab4-aba8-4b5e278fe790",
   "metadata": {},
   "outputs": [],
   "source": [
    "with open('elliptic_curves_list_cubic_lmfdb.pkl','rb') as f:\n",
    "    ecs_cubic = pickle.load(f)"
   ]
  },
  {
   "cell_type": "markdown",
   "id": "40b19caf-19f6-496e-af27-e83f48dae418",
   "metadata": {
    "jp-MarkdownHeadingCollapsed": true
   },
   "source": [
    "# Análisis de los primos del caso cúbico"
   ]
  },
  {
   "cell_type": "code",
   "execution_count": 20,
   "id": "ed65ac71-a69d-4294-97a7-a38cd2b12888",
   "metadata": {},
   "outputs": [],
   "source": [
    "ecs_cubic_disc= ecs_cubic\n"
   ]
  },
  {
   "cell_type": "markdown",
   "id": "229532b7-af45-4dea-bb34-1e438a04c82c",
   "metadata": {},
   "source": [
    "## Primos buenos"
   ]
  },
  {
   "cell_type": "code",
   "execution_count": 21,
   "id": "eacec0ad-059f-4158-9131-715cd8fc1b02",
   "metadata": {},
   "outputs": [],
   "source": [
    "p=5\n",
    "ecs_cubic_disc5 = [e for e in ecs_cubic_disc if  e['disc_abs']%p == 0]"
   ]
  },
  {
   "cell_type": "code",
   "execution_count": 22,
   "id": "cc1f522a-a0e2-4477-aefa-a24746ccf18b",
   "metadata": {},
   "outputs": [
    {
     "data": {
      "text/plain": [
       "283043"
      ]
     },
     "execution_count": 22,
     "metadata": {},
     "output_type": "execute_result"
    }
   ],
   "source": [
    "len(ecs_cubic_disc5)"
   ]
  },
  {
   "cell_type": "code",
   "execution_count": 23,
   "id": "c225ae25-ecc1-4c25-b6f4-0fc037660355",
   "metadata": {},
   "outputs": [],
   "source": [
    "ecs_cubic_disc5_cond5 = [e for e in ecs_cubic_disc5 if  e['conductor']%p == 0]"
   ]
  },
  {
   "cell_type": "code",
   "execution_count": 24,
   "id": "ce3c6123-b57e-4168-9c1d-681815b10dd9",
   "metadata": {},
   "outputs": [
    {
     "data": {
      "text/plain": [
       "283043"
      ]
     },
     "execution_count": 24,
     "metadata": {},
     "output_type": "execute_result"
    }
   ],
   "source": [
    "len(ecs_cubic_disc5_cond5)"
   ]
  },
  {
   "cell_type": "code",
   "execution_count": 25,
   "id": "8e611706-0e15-40d2-81b6-92382a6f1827",
   "metadata": {},
   "outputs": [
    {
     "data": {
      "text/plain": [
       "223701"
      ]
     },
     "execution_count": 25,
     "metadata": {},
     "output_type": "execute_result"
    }
   ],
   "source": [
    "p=7\n",
    "ecs_cubic_disc7 = [e for e in ecs_cubic_disc if  e['disc_abs']%p == 0]\n",
    "len(ecs_cubic_disc7)"
   ]
  },
  {
   "cell_type": "code",
   "execution_count": 26,
   "id": "8e8d8cde-c5bf-4a20-baef-5e559f769b50",
   "metadata": {},
   "outputs": [
    {
     "data": {
      "text/plain": [
       "223701"
      ]
     },
     "execution_count": 26,
     "metadata": {},
     "output_type": "execute_result"
    }
   ],
   "source": [
    "ecs_cubic_disc7_cond7 = [e for e in ecs_cubic_disc7 if  e['conductor']%p == 0]\n",
    "len(ecs_cubic_disc7_cond7)"
   ]
  },
  {
   "cell_type": "code",
   "execution_count": 27,
   "id": "db15346a-36be-4d16-82b5-bae3fe68eb0f",
   "metadata": {},
   "outputs": [
    {
     "data": {
      "text/plain": [
       "104221"
      ]
     },
     "execution_count": 27,
     "metadata": {},
     "output_type": "execute_result"
    }
   ],
   "source": [
    "p=13\n",
    "ecs_cubic_disc13 = [e for e in ecs_cubic_disc if  e['disc_abs']%p == 0]\n",
    "len(ecs_cubic_disc13)"
   ]
  },
  {
   "cell_type": "code",
   "execution_count": 28,
   "id": "f29c1ad6-32e8-4930-b3b6-94e8b5dce742",
   "metadata": {},
   "outputs": [
    {
     "data": {
      "text/plain": [
       "104221"
      ]
     },
     "execution_count": 28,
     "metadata": {},
     "output_type": "execute_result"
    }
   ],
   "source": [
    "ecs_cubic_disc13_cond13 = [e for e in ecs_cubic_disc13 if  e['conductor']%p == 0]\n",
    "len(ecs_cubic_disc13_cond13)"
   ]
  },
  {
   "cell_type": "markdown",
   "id": "d026cc66-9e03-4249-b03f-f18250dab2bd",
   "metadata": {},
   "source": [
    "## Primos Malos"
   ]
  },
  {
   "cell_type": "code",
   "execution_count": 29,
   "id": "f47cde86-ef48-4656-a8f7-7da95a426dd8",
   "metadata": {},
   "outputs": [
    {
     "data": {
      "text/plain": [
       "763401"
      ]
     },
     "execution_count": 29,
     "metadata": {},
     "output_type": "execute_result"
    }
   ],
   "source": [
    "p = 2\n",
    "ecs_cubic_disc2 = [e for e in ecs_cubic_disc if  e['disc_abs']%p == 0]\n",
    "len(ecs_cubic_disc2)"
   ]
  },
  {
   "cell_type": "code",
   "execution_count": 30,
   "id": "d50fd190-f1fd-4713-9067-6da274d183d6",
   "metadata": {},
   "outputs": [
    {
     "data": {
      "text/plain": [
       "586418"
      ]
     },
     "execution_count": 30,
     "metadata": {},
     "output_type": "execute_result"
    }
   ],
   "source": [
    "ecs_cubic_disc2_cond2 = [e for e in ecs_cubic_disc2 if  e['conductor']%p == 0]\n",
    "len(ecs_cubic_disc2_cond2)"
   ]
  },
  {
   "cell_type": "code",
   "execution_count": 31,
   "id": "69805248-8be0-408d-b681-6ec7e85279dd",
   "metadata": {},
   "outputs": [
    {
     "data": {
      "text/plain": [
       "450420"
      ]
     },
     "execution_count": 31,
     "metadata": {},
     "output_type": "execute_result"
    }
   ],
   "source": [
    "p = 3\n",
    "ecs_cubic_disc3 = [e for e in ecs_cubic_disc if  e['disc_abs']%p == 0]\n",
    "len(ecs_cubic_disc3)"
   ]
  },
  {
   "cell_type": "code",
   "execution_count": 32,
   "id": "f8ed068c-ee8f-4b21-b322-46ba0b933f47",
   "metadata": {},
   "outputs": [
    {
     "data": {
      "text/plain": [
       "438220"
      ]
     },
     "execution_count": 32,
     "metadata": {},
     "output_type": "execute_result"
    }
   ],
   "source": [
    "ecs_cubic_disc3_cond3 = [e for e in ecs_cubic_disc3 if  e['conductor']%p == 0]\n",
    "len(ecs_cubic_disc3_cond3)"
   ]
  },
  {
   "cell_type": "markdown",
   "id": "ef135def-b2bb-4efe-afce-b883c003e2e5",
   "metadata": {},
   "source": [
    "# Descarga del crecimiento de la torsión en el caso bicuadrático"
   ]
  },
  {
   "cell_type": "code",
   "execution_count": 4,
   "id": "89260f86-b3b0-4d14-99c0-0767e81c8d72",
   "metadata": {},
   "outputs": [],
   "source": [
    "degree = 4\n",
    "ecs_biquadratic = []\n",
    "for i in range(10001):\n",
    "    ecs_biquadratic = ecs_biquadratic + httpx.get(f'https://beta.lmfdb.org/api/ec_torsion_growth/?_format=json&degree={degree}&_offset={i}').json()['data']"
   ]
  },
  {
   "cell_type": "code",
   "execution_count": 5,
   "id": "4bc97e2b-0123-4b29-84cc-dda59509f46f",
   "metadata": {},
   "outputs": [
    {
     "data": {
      "text/plain": [
       "1000100"
      ]
     },
     "execution_count": 5,
     "metadata": {},
     "output_type": "execute_result"
    }
   ],
   "source": [
    "len(ecs_biquadratic)"
   ]
  },
  {
   "cell_type": "markdown",
   "id": "387aea2f",
   "metadata": {},
   "source": [
    "# Cálculo de los discriminantes"
   ]
  },
  {
   "cell_type": "code",
   "execution_count": 34,
   "id": "686feb1a-3b69-43cd-bd47-265ba71d7829",
   "metadata": {},
   "outputs": [],
   "source": [
    "x = polygen(ZZ,'x')\n",
    "for ec in ecs_biquadratic:\n",
    "    f = ec['field']\n",
    "    K.<alpha> = NumberField(f[0]*x^4+ f[1]*x^3 + f[2]*x^2+f[3]*x+f[4]) \n",
    "    ec['disc_abs'] = K.absolute_discriminant()"
   ]
  },
  {
   "cell_type": "code",
   "execution_count": 35,
   "id": "342db04d-0120-4024-9b3d-66d77cf92bfd",
   "metadata": {},
   "outputs": [],
   "source": [
    "with open('elliptic_curves_list_biquadratic_w_disc_lmfdb.pkl', 'wb') as f:\n",
    "   pickle.dump(ecs_biquadratic, f)"
   ]
  },
  {
   "cell_type": "code",
   "execution_count": 33,
   "id": "653eba4d-770d-413b-808c-674bb76db698",
   "metadata": {},
   "outputs": [],
   "source": [
    "with open('elliptic_curves_list_biquadratic_lmfdb.pkl','rb') as f:\n",
    "    ecs_biquadratic = pickle.load(f)"
   ]
  },
  {
   "cell_type": "markdown",
   "id": "3082a7da",
   "metadata": {},
   "source": [
    "# Análisis de los primos en el caso bicuadrático"
   ]
  },
  {
   "cell_type": "markdown",
   "id": "03ec329e",
   "metadata": {},
   "source": [
    "## Primos buenos"
   ]
  },
  {
   "cell_type": "code",
   "execution_count": null,
   "id": "5566d86e",
   "metadata": {},
   "outputs": [],
   "source": [
    "p=5\n",
    "ecs_biquadratic_disc5 = [e for e in ecs_biquadratic_disc if  e['disc_abs']%p == 0]"
   ]
  },
  {
   "cell_type": "code",
   "execution_count": null,
   "id": "fd95c7ec",
   "metadata": {},
   "outputs": [],
   "source": [
    "len(ecs_biquadratic_disc5)"
   ]
  },
  {
   "cell_type": "code",
   "execution_count": null,
   "id": "c0443d90",
   "metadata": {},
   "outputs": [],
   "source": [
    "ecs_cubic_disc5_cond5 = [e for e in ecs_cubic_disc5 if  e['conductor']%p == 0]"
   ]
  },
  {
   "cell_type": "code",
   "execution_count": 36,
   "id": "236424c1",
   "metadata": {},
   "outputs": [],
   "source": [
    "def check_prime(curves_list, p):\n",
    "    curves_hypothesis = [e for e in curves_list if  e['disc_abs']%p == 0]\n",
    "    curves_thesis = [e for e in curves_hypothesis if  e['conductor']%p == 0]\n",
    "    return (len(curves_hypothesis),len(curves_thesis))"
   ]
  },
  {
   "cell_type": "code",
   "execution_count": 48,
   "id": "be1a8169",
   "metadata": {},
   "outputs": [
    {
     "data": {
      "text/plain": [
       "(104221, 104221)"
      ]
     },
     "execution_count": 48,
     "metadata": {},
     "output_type": "execute_result"
    }
   ],
   "source": [
    "check_prime(ecs_cubic,13)"
   ]
  },
  {
   "cell_type": "code",
   "execution_count": null,
   "id": "8051b34c",
   "metadata": {},
   "outputs": [],
   "source": []
  },
  {
   "cell_type": "code",
   "execution_count": null,
   "id": "7649f6d1",
   "metadata": {},
   "outputs": [],
   "source": []
  },
  {
   "cell_type": "code",
   "execution_count": null,
   "id": "4ff628a0",
   "metadata": {},
   "outputs": [],
   "source": []
  },
  {
   "cell_type": "code",
   "execution_count": null,
   "id": "45041c98",
   "metadata": {},
   "outputs": [],
   "source": []
  }
 ],
 "metadata": {
  "kernelspec": {
   "display_name": "SageMath 10.2",
   "language": "sage",
   "name": "sagemath"
  },
  "language_info": {
   "codemirror_mode": {
    "name": "ipython",
    "version": 3
   },
   "file_extension": ".py",
   "mimetype": "text/x-python",
   "name": "python",
   "nbconvert_exporter": "python",
   "pygments_lexer": "ipython3",
   "version": "3.11.9"
  }
 },
 "nbformat": 4,
 "nbformat_minor": 5
}
